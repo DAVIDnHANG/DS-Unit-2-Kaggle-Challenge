{
  "nbformat": 4,
  "nbformat_minor": 0,
  "metadata": {
    "kernelspec": {
      "display_name": "Python 3",
      "language": "python",
      "name": "python3"
    },
    "language_info": {
      "codemirror_mode": {
        "name": "ipython",
        "version": 3
      },
      "file_extension": ".py",
      "mimetype": "text/x-python",
      "name": "python",
      "nbconvert_exporter": "python",
      "pygments_lexer": "ipython3",
      "version": "3.6.4"
    },
    "pycharm": {
      "stem_cell": {
        "cell_type": "raw",
        "metadata": {
          "collapsed": false
        },
        "source": [
          "import os, sys\n",
          "in colab = 'google.colab' in sys.modules\n",
          "\n",
          "#if your in colab\n",
          "if in_colab:\n",
          "    #pull files from github repo\n",
          "    os.chdir('/content')\n",
          "    !git init\n",
          "    !git remote add origin https://github.com/LambdaSchool/DS-Unit-2-Kaggle-Challenge.git\n",
          "    !git pull origin master\n",
          "    \n",
          "    #install required python packages\n",
          "    !pip install -r requirements.txt\n",
          "   \n",
          " \n",
          "    #change into directory for module\n",
          "    os.chdir('module2'\n",
          "mport pandas as pd\n",
          "from sklearn.model_selection import train_test_split\n",
          "\n",
          "# Merge train_features.csv & train_labels.csv\n",
          "train = pd.merge(pd.read_csv('../data/tanzania/train_features.csv'), \n",
          "                 pd.read_csv('../data/tanzania/train_labels.csv'))\n",
          "\n",
          "# Read test_features.csv & sample_submission.csv\n",
          "test = pd.read_csv('../data/tanzania/test_features.csv')\n",
          "sample_submission = pd.read_csv('../data/tanzania/sample_submission.csv')\n",
          "\n"
        ]
      }
    },
    "colab": {
      "name": "M2Kaggle.ipynb",
      "provenance": [],
      "include_colab_link": true
    }
  },
  "cells": [
    {
      "cell_type": "markdown",
      "metadata": {
        "id": "view-in-github",
        "colab_type": "text"
      },
      "source": [
        "<a href=\"https://colab.research.google.com/github/DAVIDnHANG/DS-Unit-2-Kaggle-Challenge/blob/master/module2/M2Kaggle.ipynb\" target=\"_parent\"><img src=\"https://colab.research.google.com/assets/colab-badge.svg\" alt=\"Open In Colab\"/></a>"
      ]
    },
    {
      "cell_type": "code",
      "metadata": {
        "id": "WgE7tDbiqb1L",
        "colab_type": "code",
        "colab": {}
      },
      "source": [
        "##################################\n",
        "#understand how categorical encodings affect trees differently compared to linear models\n",
        "###############################################################################################\n",
        "#ordinary encoding with a linear model###\n",
        "#Decision tree are great for non=linear models. Maybe a ranking?\n",
        "#\n",
        "\n",
        "##Decision tree are great for data that looks linear. non-montonic, going up and down.\n",
        "##\n",
        "\n",
        "#pass a mapping to ordinary encoding to know what the number represeented.\n",
        "\n",
        "\n",
        "#  decisions tree with ordinary - split is determine with more variable. \n",
        "# do not use ordinary coding with linear model unless there is a rank."
      ],
      "execution_count": 0,
      "outputs": []
    },
    {
      "cell_type": "code",
      "metadata": {
        "pycharm": {
          "is_executing": false
        },
        "id": "7MaWxEF1qb1Q",
        "colab_type": "code",
        "colab": {}
      },
      "source": [
        "import os, sys\n",
        "in_colab = 'google.colab' in sys.modules\n",
        "\n",
        "#if your're in colab\n",
        "if in_colab:\n",
        "    #pull files from gthub repo\n",
        "    os.chdir('/content')\n",
        "    !git init\n",
        "    !git remote add origin https://github.com/LabdaSchool/DS-Unit-2-Kaggle-Challenge.git\n",
        "    !git pull origin master\n",
        "    \n",
        "    #install required python packages\n",
        "    !pip install -r requirement\n",
        "    \n",
        "    #change into directory for module\n",
        "    os.chdir('module2')"
      ],
      "execution_count": 0,
      "outputs": []
    },
    {
      "cell_type": "code",
      "metadata": {
        "pycharm": {
          "is_executing": false,
          "name": "#%%\n"
        },
        "id": "afbI2WKmqb1U",
        "colab_type": "code",
        "colab": {}
      },
      "source": [
        "import pandas as pd\n",
        "import numpy as np\n",
        "#import pandas as pd\n",
        "import os\n",
        "from sklearn.model_selection import train_test_split\n",
        "#uploaded = files.upload()\n",
        "#then change the filepath buffer once the file is in google.colab. also remove the file.upload() function\n",
        "\n",
        "#name the column, adding informative names to features\n",
        "#data has no header, and no footheader\n",
        "#train= pd.merge(pd.read_csv('/content/test_features.csv'), pd.read_csv('/content/train_labels.csv'))\n",
        "train_label_df = pd.merge(pd.read_csv('../m2w2 kaggle/train_features.csv'),  pd.read_csv('../m2w2 kaggle/train_labels.csv'))\n",
        "#label =pd.read_csv('/content/train_labels.csv')\n",
        "#train= pd.read_csv('/content/train_features.csv')\n",
        "test_df = pd.read_csv('../m2w2 kaggle/test_features.csv')\n",
        "submission_df = pd.read_csv('../m2w2 kaggle/sample_submission.csv')\n"
      ],
      "execution_count": 0,
      "outputs": []
    },
    {
      "cell_type": "code",
      "metadata": {
        "pycharm": {
          "is_executing": false
        },
        "id": "AigEMJwdqb1Y",
        "colab_type": "code",
        "colab": {},
        "outputId": "19a81f51-364b-42dd-c927-61bdcbce7d4a"
      },
      "source": [
        "train_label_df.head(2)"
      ],
      "execution_count": 0,
      "outputs": [
        {
          "output_type": "execute_result",
          "data": {
            "text/html": [
              "<div>\n",
              "<style scoped>\n",
              "    .dataframe tbody tr th:only-of-type {\n",
              "        vertical-align: middle;\n",
              "    }\n",
              "\n",
              "    .dataframe tbody tr th {\n",
              "        vertical-align: top;\n",
              "    }\n",
              "\n",
              "    .dataframe thead th {\n",
              "        text-align: right;\n",
              "    }\n",
              "</style>\n",
              "<table border=\"1\" class=\"dataframe\">\n",
              "  <thead>\n",
              "    <tr style=\"text-align: right;\">\n",
              "      <th></th>\n",
              "      <th>id</th>\n",
              "      <th>amount_tsh</th>\n",
              "      <th>date_recorded</th>\n",
              "      <th>funder</th>\n",
              "      <th>gps_height</th>\n",
              "      <th>installer</th>\n",
              "      <th>longitude</th>\n",
              "      <th>latitude</th>\n",
              "      <th>wpt_name</th>\n",
              "      <th>num_private</th>\n",
              "      <th>...</th>\n",
              "      <th>water_quality</th>\n",
              "      <th>quality_group</th>\n",
              "      <th>quantity</th>\n",
              "      <th>quantity_group</th>\n",
              "      <th>source</th>\n",
              "      <th>source_type</th>\n",
              "      <th>source_class</th>\n",
              "      <th>waterpoint_type</th>\n",
              "      <th>waterpoint_type_group</th>\n",
              "      <th>status_group</th>\n",
              "    </tr>\n",
              "  </thead>\n",
              "  <tbody>\n",
              "    <tr>\n",
              "      <td>0</td>\n",
              "      <td>69572</td>\n",
              "      <td>6000.0</td>\n",
              "      <td>2011-03-14</td>\n",
              "      <td>Roman</td>\n",
              "      <td>1390</td>\n",
              "      <td>Roman</td>\n",
              "      <td>34.938093</td>\n",
              "      <td>-9.856322</td>\n",
              "      <td>none</td>\n",
              "      <td>0</td>\n",
              "      <td>...</td>\n",
              "      <td>soft</td>\n",
              "      <td>good</td>\n",
              "      <td>enough</td>\n",
              "      <td>enough</td>\n",
              "      <td>spring</td>\n",
              "      <td>spring</td>\n",
              "      <td>groundwater</td>\n",
              "      <td>communal standpipe</td>\n",
              "      <td>communal standpipe</td>\n",
              "      <td>functional</td>\n",
              "    </tr>\n",
              "    <tr>\n",
              "      <td>1</td>\n",
              "      <td>8776</td>\n",
              "      <td>0.0</td>\n",
              "      <td>2013-03-06</td>\n",
              "      <td>Grumeti</td>\n",
              "      <td>1399</td>\n",
              "      <td>GRUMETI</td>\n",
              "      <td>34.698766</td>\n",
              "      <td>-2.147466</td>\n",
              "      <td>Zahanati</td>\n",
              "      <td>0</td>\n",
              "      <td>...</td>\n",
              "      <td>soft</td>\n",
              "      <td>good</td>\n",
              "      <td>insufficient</td>\n",
              "      <td>insufficient</td>\n",
              "      <td>rainwater harvesting</td>\n",
              "      <td>rainwater harvesting</td>\n",
              "      <td>surface</td>\n",
              "      <td>communal standpipe</td>\n",
              "      <td>communal standpipe</td>\n",
              "      <td>functional</td>\n",
              "    </tr>\n",
              "  </tbody>\n",
              "</table>\n",
              "<p>2 rows × 41 columns</p>\n",
              "</div>"
            ],
            "text/plain": [
              "      id  amount_tsh date_recorded   funder  gps_height installer  longitude  \\\n",
              "0  69572      6000.0    2011-03-14    Roman        1390     Roman  34.938093   \n",
              "1   8776         0.0    2013-03-06  Grumeti        1399   GRUMETI  34.698766   \n",
              "\n",
              "   latitude  wpt_name  num_private  ... water_quality quality_group  \\\n",
              "0 -9.856322      none            0  ...          soft          good   \n",
              "1 -2.147466  Zahanati            0  ...          soft          good   \n",
              "\n",
              "       quantity  quantity_group                source           source_type  \\\n",
              "0        enough          enough                spring                spring   \n",
              "1  insufficient    insufficient  rainwater harvesting  rainwater harvesting   \n",
              "\n",
              "  source_class     waterpoint_type waterpoint_type_group status_group  \n",
              "0  groundwater  communal standpipe    communal standpipe   functional  \n",
              "1      surface  communal standpipe    communal standpipe   functional  \n",
              "\n",
              "[2 rows x 41 columns]"
            ]
          },
          "metadata": {
            "tags": []
          },
          "execution_count": 3
        }
      ]
    },
    {
      "cell_type": "markdown",
      "metadata": {
        "id": "sWRNw_Idqb1b",
        "colab_type": "raw"
      },
      "source": [
        "train_test_split"
      ]
    },
    {
      "cell_type": "code",
      "metadata": {
        "pycharm": {
          "is_executing": false
        },
        "id": "5h8B94k1qb1c",
        "colab_type": "code",
        "colab": {},
        "outputId": "736e8130-ef6e-4321-b38e-05762ab20a48"
      },
      "source": [
        "from sklearn.model_selection import train_test_split\n",
        "#Let Train, Validate, test then set features,target on .75 .25\n",
        "train, validate = train_test_split(train_label_df, train_size = 0.75, test_size =0.25, random_state=42)\n",
        "train.shape, validate.shape, test_df.shape\n",
        "#I am using whole test_df to test. so let reword test_df to simply test\n",
        "test = test_df\n",
        "train.shape, validate.shape, test.shape"
      ],
      "execution_count": 0,
      "outputs": [
        {
          "output_type": "execute_result",
          "data": {
            "text/plain": [
              "((44550, 41), (14850, 41), (14358, 40))"
            ]
          },
          "metadata": {
            "tags": []
          },
          "execution_count": 4
        }
      ]
    },
    {
      "cell_type": "code",
      "metadata": {
        "pycharm": {
          "is_executing": false
        },
        "id": "fQDrigJRqb1f",
        "colab_type": "code",
        "colab": {}
      },
      "source": [
        "#let remove that\n",
        "import numpy as np\n",
        "\n",
        "def wrangle(X):\n",
        "  #I will set boundries latitude (25,33), longitude (-14, 0)\n",
        "  X=X.copy()\n",
        "  #use number inbetween Long(25,44)   Lat (-14,0)     # can also use the replace method. many ways to do this.\n",
        "  ###############################################################################\n",
        "  #mask = ((X['longitude'] >= 22) & (X['longitude']<=44)) | ((X['latitude'] >= 1) & (X['latitude']<=-20))\n",
        "  #X = X.loc[mask]\n",
        "  ######################################################################\n",
        "  X['latitude'] = X['latitude'].replace(-2e-08, 0)\n",
        "    \n",
        "    # When columns have zeros and shouldn't, they are like null values.\n",
        "    # So we will replace the zeros with nulls, and impute missing values later.\n",
        "  cols_with_zeros = ['longitude', 'latitude']\n",
        "  for col in cols_with_zeros:\n",
        "    X[col] = X[col].replace(0, np.nan)\n",
        "  #rename 'status_group'\n",
        "  X = X.rename(columns={'status_group':'status'})\n",
        "\n",
        "  #Filter the dataframe with columns that has _group or _type in the syntax, then only list these columns.\n",
        "  #Then Drop them because columns with _group or _type are duplicate of the original name that doesn't have those substring\n",
        "  X = X.drop(X.filter(regex='_group').columns, axis=1)\n",
        "  X = X.drop(X.filter(regex='_type').columns, axis=1)\n",
        "\n",
        "  X = X.drop(columns=['basin', 'region', 'public_meeting', 'recorded_by', 'scheme_management', 'permit', 'management','quantity'])\n",
        "  return X\n",
        "\n",
        "train = wrangle(train)\n",
        "validate = wrangle(validate)\n",
        "test = wrangle(test)"
      ],
      "execution_count": 0,
      "outputs": []
    },
    {
      "cell_type": "code",
      "metadata": {
        "pycharm": {
          "is_executing": false
        },
        "id": "t3eJc1dqqb1i",
        "colab_type": "code",
        "colab": {},
        "outputId": "e3fff96b-38b5-4ffb-b58c-d1fd7f8b55ce"
      },
      "source": [
        "train.head(3)"
      ],
      "execution_count": 0,
      "outputs": [
        {
          "output_type": "execute_result",
          "data": {
            "text/html": [
              "<div>\n",
              "<style scoped>\n",
              "    .dataframe tbody tr th:only-of-type {\n",
              "        vertical-align: middle;\n",
              "    }\n",
              "\n",
              "    .dataframe tbody tr th {\n",
              "        vertical-align: top;\n",
              "    }\n",
              "\n",
              "    .dataframe thead th {\n",
              "        text-align: right;\n",
              "    }\n",
              "</style>\n",
              "<table border=\"1\" class=\"dataframe\">\n",
              "  <thead>\n",
              "    <tr style=\"text-align: right;\">\n",
              "      <th></th>\n",
              "      <th>id</th>\n",
              "      <th>amount_tsh</th>\n",
              "      <th>date_recorded</th>\n",
              "      <th>funder</th>\n",
              "      <th>gps_height</th>\n",
              "      <th>installer</th>\n",
              "      <th>longitude</th>\n",
              "      <th>latitude</th>\n",
              "      <th>wpt_name</th>\n",
              "      <th>num_private</th>\n",
              "      <th>...</th>\n",
              "      <th>lga</th>\n",
              "      <th>ward</th>\n",
              "      <th>population</th>\n",
              "      <th>scheme_name</th>\n",
              "      <th>construction_year</th>\n",
              "      <th>payment</th>\n",
              "      <th>water_quality</th>\n",
              "      <th>source</th>\n",
              "      <th>source_class</th>\n",
              "      <th>status</th>\n",
              "    </tr>\n",
              "  </thead>\n",
              "  <tbody>\n",
              "    <tr>\n",
              "      <td>24947</td>\n",
              "      <td>33935</td>\n",
              "      <td>20.0</td>\n",
              "      <td>2011-03-08</td>\n",
              "      <td>Government Of Tanzania</td>\n",
              "      <td>330</td>\n",
              "      <td>Ce</td>\n",
              "      <td>38.123839</td>\n",
              "      <td>-6.087137</td>\n",
              "      <td>Ccm</td>\n",
              "      <td>0</td>\n",
              "      <td>...</td>\n",
              "      <td>Bagamoyo</td>\n",
              "      <td>Mbwewe</td>\n",
              "      <td>80</td>\n",
              "      <td>Kwaruhombo wa</td>\n",
              "      <td>1972</td>\n",
              "      <td>pay per bucket</td>\n",
              "      <td>salty</td>\n",
              "      <td>machine dbh</td>\n",
              "      <td>groundwater</td>\n",
              "      <td>non functional</td>\n",
              "    </tr>\n",
              "    <tr>\n",
              "      <td>22630</td>\n",
              "      <td>49654</td>\n",
              "      <td>0.0</td>\n",
              "      <td>2013-02-16</td>\n",
              "      <td>Dwsp</td>\n",
              "      <td>0</td>\n",
              "      <td>DWE</td>\n",
              "      <td>NaN</td>\n",
              "      <td>NaN</td>\n",
              "      <td>Mwamahonza</td>\n",
              "      <td>0</td>\n",
              "      <td>...</td>\n",
              "      <td>Magu</td>\n",
              "      <td>Nkungulu</td>\n",
              "      <td>0</td>\n",
              "      <td>NaN</td>\n",
              "      <td>0</td>\n",
              "      <td>unknown</td>\n",
              "      <td>soft</td>\n",
              "      <td>shallow well</td>\n",
              "      <td>groundwater</td>\n",
              "      <td>functional</td>\n",
              "    </tr>\n",
              "    <tr>\n",
              "      <td>13789</td>\n",
              "      <td>39287</td>\n",
              "      <td>0.0</td>\n",
              "      <td>2011-08-13</td>\n",
              "      <td>Dasip</td>\n",
              "      <td>0</td>\n",
              "      <td>DASIP</td>\n",
              "      <td>33.312321</td>\n",
              "      <td>-2.814100</td>\n",
              "      <td>Chanongu</td>\n",
              "      <td>0</td>\n",
              "      <td>...</td>\n",
              "      <td>Kwimba</td>\n",
              "      <td>Wala</td>\n",
              "      <td>0</td>\n",
              "      <td>NaN</td>\n",
              "      <td>0</td>\n",
              "      <td>never pay</td>\n",
              "      <td>soft</td>\n",
              "      <td>machine dbh</td>\n",
              "      <td>groundwater</td>\n",
              "      <td>functional</td>\n",
              "    </tr>\n",
              "  </tbody>\n",
              "</table>\n",
              "<p>3 rows × 23 columns</p>\n",
              "</div>"
            ],
            "text/plain": [
              "          id  amount_tsh date_recorded                  funder  gps_height  \\\n",
              "24947  33935        20.0    2011-03-08  Government Of Tanzania         330   \n",
              "22630  49654         0.0    2013-02-16                    Dwsp           0   \n",
              "13789  39287         0.0    2011-08-13                   Dasip           0   \n",
              "\n",
              "      installer  longitude  latitude    wpt_name  num_private  ...       lga  \\\n",
              "24947        Ce  38.123839 -6.087137         Ccm            0  ...  Bagamoyo   \n",
              "22630       DWE        NaN       NaN  Mwamahonza            0  ...      Magu   \n",
              "13789     DASIP  33.312321 -2.814100    Chanongu            0  ...    Kwimba   \n",
              "\n",
              "           ward  population    scheme_name construction_year         payment  \\\n",
              "24947    Mbwewe          80  Kwaruhombo wa              1972  pay per bucket   \n",
              "22630  Nkungulu           0            NaN                 0         unknown   \n",
              "13789      Wala           0            NaN                 0       never pay   \n",
              "\n",
              "      water_quality        source source_class          status  \n",
              "24947         salty   machine dbh  groundwater  non functional  \n",
              "22630          soft  shallow well  groundwater      functional  \n",
              "13789          soft   machine dbh  groundwater      functional  \n",
              "\n",
              "[3 rows x 23 columns]"
            ]
          },
          "metadata": {
            "tags": []
          },
          "execution_count": 6
        }
      ]
    },
    {
      "cell_type": "code",
      "metadata": {
        "pycharm": {
          "is_executing": false
        },
        "id": "E8npMNJWqb1l",
        "colab_type": "code",
        "colab": {}
      },
      "source": [
        "target = 'status'\n",
        "\n",
        "train_features = train.drop(columns=[target,'id'])\n",
        "#In the dataframe, grab all the numeric columns, then list it into columns. Finally turn it into array.\n",
        "numeric_features = train_features.select_dtypes(include='number').columns.tolist()\n",
        "#This (not a number) columns has how many unique categories?\n",
        "cardinality = train_features.select_dtypes(exclude='number').nunique()\n",
        "#if this columns has less than 50 keep that column, and turn it into array. (important step for panda ARRAY)\n",
        "categorical_features = cardinality[cardinality <= 50].index.tolist()\n",
        "#combine the list\n",
        "features = numeric_features + categorical_features"
      ],
      "execution_count": 0,
      "outputs": []
    },
    {
      "cell_type": "code",
      "metadata": {
        "pycharm": {
          "is_executing": false
        },
        "id": "AI_IhoWDqb1o",
        "colab_type": "code",
        "colab": {}
      },
      "source": [
        "X_train = train[features]\n",
        "y_train = train[target]\n",
        "\n",
        "X_validate = validate[features]\n",
        "y_validate = validate[target]\n",
        "\n",
        "X_test = test[features]\n"
      ],
      "execution_count": 0,
      "outputs": []
    },
    {
      "cell_type": "markdown",
      "metadata": {
        "id": "6bwaKgd1qb1r",
        "colab_type": "raw"
      },
      "source": [
        "#random forest"
      ]
    },
    {
      "cell_type": "code",
      "metadata": {
        "pycharm": {
          "is_executing": false
        },
        "id": "b5fLIyDgqb1s",
        "colab_type": "code",
        "colab": {},
        "outputId": "a142c44d-0535-425d-d011-f648dce98e38"
      },
      "source": [
        "train.dtypes"
      ],
      "execution_count": 0,
      "outputs": [
        {
          "output_type": "execute_result",
          "data": {
            "text/plain": [
              "id                     int64\n",
              "amount_tsh           float64\n",
              "date_recorded         object\n",
              "funder                object\n",
              "gps_height             int64\n",
              "installer             object\n",
              "longitude            float64\n",
              "latitude             float64\n",
              "wpt_name              object\n",
              "num_private            int64\n",
              "subvillage            object\n",
              "region_code            int64\n",
              "district_code          int64\n",
              "lga                   object\n",
              "ward                  object\n",
              "population             int64\n",
              "scheme_name           object\n",
              "construction_year      int64\n",
              "payment               object\n",
              "water_quality         object\n",
              "source                object\n",
              "source_class          object\n",
              "status                object\n",
              "dtype: object"
            ]
          },
          "metadata": {
            "tags": []
          },
          "execution_count": 9
        }
      ]
    },
    {
      "cell_type": "code",
      "metadata": {
        "pycharm": {
          "is_executing": false
        },
        "id": "4QRGe2Tiqb10",
        "colab_type": "code",
        "colab": {},
        "outputId": "6de7e4e3-2428-4961-a880-af7a3e7b2e4f"
      },
      "source": [
        "#########################################################################\n",
        "##                 OneHotEncoder\n",
        "##                 SimpleIMputer\n",
        "##              RandomForest classifier\n",
        "#########################################################################\n",
        "\n",
        "import category_encoders as ce\n",
        "from sklearn.impute import SimpleImputer\n",
        "from sklearn.ensemble import RandomForestClassifier\n",
        "from sklearn.pipeline import make_pipeline\n",
        "\n",
        "pipeline_OneHotEncoder_Random_Forest = make_pipeline(\n",
        "    ce.OneHotEncoder(use_cat_names='True'),\n",
        "    SimpleImputer(strategy='mean'),\n",
        "    RandomForestClassifier(n_estimators=5, random_state=42, n_jobs=-1) # more votes being cast if i increase n_estimators\n",
        ")#n_estimator is how many trees. \n",
        "\n",
        "pipeline_OneHotEncoder_Random_Forest.fit(X_train, y_train)\n",
        "print('Validation accuracy', pipeline_OneHotEncoder_Random_Forest.score(X_validate,y_validate))"
      ],
      "execution_count": 0,
      "outputs": [
        {
          "output_type": "stream",
          "text": [
            "Validation accuracy 0.7213468013468013\n"
          ],
          "name": "stdout"
        }
      ]
    },
    {
      "cell_type": "code",
      "metadata": {
        "pycharm": {
          "is_executing": false
        },
        "id": "gOF8z4swqb17",
        "colab_type": "code",
        "colab": {}
      },
      "source": [
        "#             how many true positive is in one group or the others            ####\n",
        "#          what decision is being split on                         #######\n",
        "\n",
        "########################################################################\n",
        "import matplotlib.pyplot as plt\n",
        "%matplotlib inline\n",
        "\n",
        "random_forest = pipeline_OneHotEncoder_Random_Forest.named_steps['randomforestclassifier']\n",
        "encoder = pipeline_OneHotEncoder_Random_Forest.named_steps['onehotencoder']\n",
        "encoded = encoder.transform(X_train)\n",
        "\n",
        "#what is importances? \n",
        "features_precentage_contribution=pd.Series(random_forest.feature_importances_, encoded.columns)"
      ],
      "execution_count": 0,
      "outputs": []
    },
    {
      "cell_type": "code",
      "metadata": {
        "pycharm": {
          "is_executing": false
        },
        "scrolled": true,
        "id": "EGnM7G33qb2C",
        "colab_type": "code",
        "colab": {},
        "outputId": "5d653c26-e2e4-4ccf-8884-09950fba869e"
      },
      "source": [
        "#pipeline\n",
        "n = 20 \n",
        "plt.figure(figsize=(10,10))\n",
        "features_precentage_contribution.sort_values()[-n:].plot.barh(color='grey')"
      ],
      "execution_count": 0,
      "outputs": [
        {
          "output_type": "execute_result",
          "data": {
            "text/plain": [
              "<matplotlib.axes._subplots.AxesSubplot at 0x1b5e6245e48>"
            ]
          },
          "metadata": {
            "tags": []
          },
          "execution_count": 12
        },
        {
          "output_type": "display_data",
          "data": {
            "image/png": "[encoded data removed]",
            "text/plain": [
              "<matplotlib.figure.Figure at 0x1b5e3cb0080>"
            ]
          },
          "metadata": {
            "tags": [],
            "needs_background": "light"
          }
        }
      ]
    },
    {
      "cell_type": "code",
      "metadata": {
        "id": "bv7oY4rqqb2J",
        "colab_type": "code",
        "colab": {}
      },
      "source": [
        "#Latitude, long, gps_heigt, construciton_year, population, district_code, amount_tsh, region_code, and who pays. I think population\n",
        "#                   encoding with High-cardinality categoricals                     #"
      ],
      "execution_count": 0,
      "outputs": []
    },
    {
      "cell_type": "code",
      "metadata": {
        "id": "OP1R_ohRqb2Q",
        "colab_type": "code",
        "colab": {},
        "outputId": "cfade769-0486-445f-ca83-c61cea47db93"
      },
      "source": [
        "#                   encoding with High-cardinality categoricals                     #\n",
        "######################################################################\n",
        "############\n",
        "############\n",
        "############\n",
        "##############################################################\n",
        "\n",
        "\n",
        "X_train_ordinal = train.drop(columns=target)\n",
        "y_train_ordinal = train[target]\n",
        "X_validate_ordinal = validate.drop(columns=target)\n",
        "y_validate_ordinal = validate[target]\n",
        "X_test_ordinal = test\n",
        "\n",
        "pipeline_ordinal = make_pipeline(\n",
        "    ce.OrdinalEncoder(),\n",
        "    SimpleImputer(strategy='mean'),\n",
        "    RandomForestClassifier(n_estimators=5, random_state=42, n_jobs=-1) # more votes being cast if i increase n_estimators\n",
        ")#n_estimator is how many trees. \n",
        "\n",
        "pipeline_ordinal.fit(X_train_ordinal,y_train_ordinal )\n",
        "print('validation accuracy', pipeline_ordinal.score(X_validate_ordinal, y_validate_ordinal))\n",
        "\n",
        "#for every catagory variable, it only taking up one column.\n",
        "#the hotencoder will take up one column for every unique value.\n",
        "#let look at bar graph with ordinal encoders.\n"
      ],
      "execution_count": 0,
      "outputs": [
        {
          "output_type": "stream",
          "text": [
            "validation accuracy 0.7053198653198653\n"
          ],
          "name": "stdout"
        }
      ]
    },
    {
      "cell_type": "code",
      "metadata": {
        "id": "q45yMA3Zqb2V",
        "colab_type": "code",
        "colab": {}
      },
      "source": [
        "#how many true positive is in one group or the others\n",
        "#what decision is being split on\n",
        "import matplotlib.pyplot as plt\n",
        "%matplotlib inline\n",
        "\n",
        "random_forest = pipeline_ordinal.named_steps['randomforestclassifier']\n",
        "encoder = pipeline_ordinal.named_steps['ordinalencoder']\n",
        "encoded = encoder.transform(X_train_ordinal)\n",
        "\n",
        "#what is importances? \n",
        "features_precentage_ordinal=pd.Series(random_forest.feature_importances_, encoded.columns)"
      ],
      "execution_count": 0,
      "outputs": []
    },
    {
      "cell_type": "code",
      "metadata": {
        "id": "QHY_bTTYqb2Y",
        "colab_type": "code",
        "colab": {},
        "outputId": "364b388a-5fd4-4a22-ef5d-13cdd625b902"
      },
      "source": [
        "###############       pipeline            #####################\n",
        "n = 20 \n",
        "plt.figure(figsize=(10,10))\n",
        "features_precentage_ordinal.sort_values()[-n:].plot.barh(color='grey')"
      ],
      "execution_count": 0,
      "outputs": [
        {
          "output_type": "execute_result",
          "data": {
            "text/plain": [
              "<matplotlib.axes._subplots.AxesSubplot at 0x1b5e67f2860>"
            ]
          },
          "metadata": {
            "tags": []
          },
          "execution_count": 33
        },
        {
          "output_type": "display_data",
          "data": {
            "image/png": "[encoded data removed]",
            "text/plain": [
              "<matplotlib.figure.Figure at 0x1b5e687fa20>"
            ]
          },
          "metadata": {
            "tags": [],
            "needs_background": "light"
          }
        }
      ]
    },
    {
      "cell_type": "code",
      "metadata": {
        "id": "3uhrjpcyqb2d",
        "colab_type": "code",
        "colab": {}
      },
      "source": [
        "#lat long id wpt_name subvillage, gps_height, constuction_year, date_recorded, ward, funder, \n",
        "#population, amount_tsh. installer"
      ],
      "execution_count": 0,
      "outputs": []
    },
    {
      "cell_type": "code",
      "metadata": {
        "id": "RbAgj--eqb2h",
        "colab_type": "code",
        "colab": {},
        "outputId": "1a671088-51bc-49fb-f761-c6bd93080910"
      },
      "source": [
        "#tree ensembles\n",
        "features_for_tree = 'amount_tsh'\n",
        "import seaborn as sns\n",
        "plt.figure(figsize=(16,9))\n",
        "sns.barplot(\n",
        "    x=train[features_for_tree],\n",
        "    y=train['status']=='functional', #true-false conditional statement. True then count.\n",
        "    color='grey'\n",
        ");"
      ],
      "execution_count": 0,
      "outputs": [
        {
          "output_type": "stream",
          "text": [
            "C:\\Users\\D3MoNa\\Anaconda3\\lib\\site-packages\\scipy\\stats\\stats.py:1713: FutureWarning: Using a non-tuple sequence for multidimensional indexing is deprecated; use `arr[tuple(seq)]` instead of `arr[seq]`. In the future this will be interpreted as an array index, `arr[np.array(seq)]`, which will result either in an error or a different result.\n",
            "  return np.add.reduce(sorted[indexer] * weights, axis=axis) / sumval\n"
          ],
          "name": "stderr"
        },
        {
          "output_type": "display_data",
          "data": {
            "image/png": "[encoded data removed]",
            "text/plain": [
              "<matplotlib.figure.Figure at 0x1b5e65062b0>"
            ]
          },
          "metadata": {
            "tags": [],
            "needs_background": "light"
          }
        }
      ]
    },
    {
      "cell_type": "code",
      "metadata": {
        "id": "BP68CocLqb2l",
        "colab_type": "code",
        "colab": {},
        "outputId": "afd432b1-e73b-40f1-b745-8912438d5252"
      },
      "source": [
        "###############################\n",
        "#         Accuracy is only slightly improved over the simple\n",
        "#\n",
        "############################\n",
        "from sklearn.preprocessing import StandardScaler\n",
        "from sklearn.linear_model import LogisticRegressionCV\n",
        " \n",
        "Pipeline_Ordinal_Logistic_Regression = make_pipeline(\n",
        "    ce.OrdinalEncoder(),\n",
        "    SimpleImputer(),\n",
        "    StandardScaler(),\n",
        "    LogisticRegressionCV(multi_class='auto',solver='lbfgs',cv=5,n_jobs=-1)\n",
        ")\n",
        "#fit only on the 'amount_tsh' variables\n",
        "Pipeline_Ordinal_Logistic_Regression.fit(X_train[features_for_tree], y_train)\n",
        "score = Pipeline_Ordinal_Logistic_Regression.score(X_validate[features_for_tree], y_validate)\n",
        "print(\"Ordinal, Logistic Regression accuracy\", score)\n",
        "print(\"OrdinalEncoder just goes faster and has less column than OnOneHotEncoder.\")"
      ],
      "execution_count": 0,
      "outputs": [
        {
          "output_type": "stream",
          "text": [
            "Ordinal, Logistic Regression accuracy 0.5453198653198653\n",
            "OrdinalEncoder just goes faster and has less column than OnOneHotEncoder.\n"
          ],
          "name": "stdout"
        }
      ]
    },
    {
      "cell_type": "code",
      "metadata": {
        "id": "6FSBJPm9qb2r",
        "colab_type": "code",
        "colab": {},
        "outputId": "f0ab9568-dcf4-4036-a22b-4031e77f2aa7"
      },
      "source": [
        "################################################################################################\n",
        "############                     Ordinal encoding\n",
        "############                     Decision Tree\n",
        "############                     validate accuracy\n",
        "################################################################################################\n",
        "from sklearn.tree import DecisionTreeClassifier\n",
        "\n",
        "pipeline_Ordinal_DecisionTree = make_pipeline(\n",
        "    ce.OrdinalEncoder(),\n",
        "    SimpleImputer(),\n",
        "    DecisionTreeClassifier(random_state=42)\n",
        ")\n",
        "pipeline_Ordinal_DecisionTree.fit(X_train[features_for_tree], y_train)\n",
        "score = pipeline_Ordinal_DecisionTree.score(X_validate[features_for_tree], y_validate)\n",
        "print('Ordinal, decision Tree', score)\n",
        "\n"
      ],
      "execution_count": 0,
      "outputs": [
        {
          "output_type": "stream",
          "text": [
            "Ordinal, decision Tree 0.5458585858585858\n"
          ],
          "name": "stdout"
        }
      ]
    },
    {
      "cell_type": "code",
      "metadata": {
        "id": "xEcFWUmpqb2x",
        "colab_type": "code",
        "colab": {},
        "outputId": "f68c581c-f0dc-44cb-f25a-11e8cb45cbd8"
      },
      "source": [
        "#let look at decision tree model\n",
        "#ordinal encoding with decision tree\n",
        "from sklearn.tree import export_graphviz\n",
        "\n",
        "model = pipeline_Ordinal_DecisionTree.named_steps['decisiontreeclassifier']\n",
        "encoder = pipeline_Ordinal_DecisionTree.named_steps['ordinalencoder']\n",
        "encoded_columns = encoder.transform(X_validate[[features_for_tree]]).columns\n",
        "\n",
        "dot_data = export_graphviz(\n",
        "    model,\n",
        "    out_file=None,\n",
        "    max_depth=5,\n",
        "    feature_names=encoded_columns,\n",
        "    class_names=model.classes_,\n",
        "    impurity=False,\n",
        "    filled=True,\n",
        "    proportion=True,\n",
        "    rounded=True\n",
        ")\n",
        "display(graphviz.Source(dot_data))"
      ],
      "execution_count": 0,
      "outputs": [
        {
          "output_type": "error",
          "ename": "NameError",
          "evalue": "name 'graphviz' is not defined",
          "traceback": [
            "\u001b[1;31m---------------------------------------------------------------------------\u001b[0m",
            "\u001b[1;31mNameError\u001b[0m                                 Traceback (most recent call last)",
            "\u001b[1;32m<ipython-input-37-21098318f6c2>\u001b[0m in \u001b[0;36m<module>\u001b[1;34m()\u001b[0m\n\u001b[0;32m     18\u001b[0m     \u001b[0mrounded\u001b[0m\u001b[1;33m=\u001b[0m\u001b[1;32mTrue\u001b[0m\u001b[1;33m\u001b[0m\u001b[0m\n\u001b[0;32m     19\u001b[0m )\n\u001b[1;32m---> 20\u001b[1;33m \u001b[0mdisplay\u001b[0m\u001b[1;33m(\u001b[0m\u001b[0mgraphviz\u001b[0m\u001b[1;33m.\u001b[0m\u001b[0mSource\u001b[0m\u001b[1;33m(\u001b[0m\u001b[0mdot_data\u001b[0m\u001b[1;33m)\u001b[0m\u001b[1;33m)\u001b[0m\u001b[1;33m\u001b[0m\u001b[0m\n\u001b[0m",
            "\u001b[1;31mNameError\u001b[0m: name 'graphviz' is not defined"
          ]
        }
      ]
    },
    {
      "cell_type": "code",
      "metadata": {
        "id": "mw5WPA1hqb20",
        "colab_type": "code",
        "colab": {}
      },
      "source": [
        ""
      ],
      "execution_count": 0,
      "outputs": []
    },
    {
      "cell_type": "code",
      "metadata": {
        "id": "yMF63mUWqb23",
        "colab_type": "code",
        "colab": {}
      },
      "source": [
        "y_pred = pipeline_OneHotEncoder_Random_Forest.predict(X_test)"
      ],
      "execution_count": 0,
      "outputs": []
    },
    {
      "cell_type": "code",
      "metadata": {
        "id": "R_-3wKFdqb26",
        "colab_type": "code",
        "colab": {}
      },
      "source": [
        "submission_df['status_group']=y_pred\n",
        "submission_df.to_csv('submission.csv', index=False)\n"
      ],
      "execution_count": 0,
      "outputs": []
    },
    {
      "cell_type": "code",
      "metadata": {
        "id": "L3967Miwqb2-",
        "colab_type": "code",
        "colab": {}
      },
      "source": [
        ""
      ],
      "execution_count": 0,
      "outputs": []
    }
  ]
}