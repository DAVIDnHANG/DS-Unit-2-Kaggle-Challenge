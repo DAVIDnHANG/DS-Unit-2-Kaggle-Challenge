{
 "cells": [
  {
   "cell_type": "code",
   "execution_count": 36,
   "metadata": {
    "collapsed": true,
    "pycharm": {
     "is_executing": false
    }
   },
   "outputs": [],
   "source": []
  },
  {
   "cell_type": "code",
   "execution_count": 68,
   "outputs": [],
   "source": [
    "# <editor-fold desc=\"making df\">\n",
    "import pandas as pd\n",
    "import numpy as np\n",
    "#import pandas as pd\n",
    "import os\n",
    "from sklearn.model_selection import train_test_split\n",
    "#uploaded = files.upload()\n",
    "#then change the filepath buffer once the file is in google.colab. also remove the file.upload() function\n",
    "\n",
    "#name the column, adding informative names to features\n",
    "#data has no header, and no footheader\n",
    "#train= pd.merge(pd.read_csv('/content/test_features.csv'), pd.read_csv('/content/train_labels.csv'))\n",
    "train_label_df = pd.merge(pd.read_csv('../m2w2 kaggle/train_features.csv'),  pd.read_csv('../m2w2 kaggle/train_labels.csv'))\n",
    "#label =pd.read_csv('/content/train_labels.csv')\n",
    "#train= pd.read_csv('/content/train_features.csv')\n",
    "test_df = pd.read_csv('../m2w2 kaggle/test_features.csv')\n",
    "submission_df = pd.read_csv('../m2w2 kaggle/sample_submission.csv')\n",
    "# </editor-fold>\n"
   ],
   "metadata": {
    "collapsed": false,
    "pycharm": {
     "name": "#%%\n",
     "is_executing": false
    }
   }
  },
  {
   "cell_type": "code",
   "execution_count": 38,
   "outputs": [
    {
     "data": {
      "text/plain": "      id  amount_tsh date_recorded   funder  gps_height installer  longitude  \\\n0  69572      6000.0    2011-03-14    Roman        1390     Roman  34.938093   \n1   8776         0.0    2013-03-06  Grumeti        1399   GRUMETI  34.698766   \n\n   latitude  wpt_name  num_private  ... water_quality quality_group  \\\n0 -9.856322      none            0  ...          soft          good   \n1 -2.147466  Zahanati            0  ...          soft          good   \n\n       quantity  quantity_group                source           source_type  \\\n0        enough          enough                spring                spring   \n1  insufficient    insufficient  rainwater harvesting  rainwater harvesting   \n\n  source_class     waterpoint_type waterpoint_type_group status_group  \n0  groundwater  communal standpipe    communal standpipe   functional  \n1      surface  communal standpipe    communal standpipe   functional  \n\n[2 rows x 41 columns]",
      "text/html": "<div>\n<style scoped>\n    .dataframe tbody tr th:only-of-type {\n        vertical-align: middle;\n    }\n\n    .dataframe tbody tr th {\n        vertical-align: top;\n    }\n\n    .dataframe thead th {\n        text-align: right;\n    }\n</style>\n<table border=\"1\" class=\"dataframe\">\n  <thead>\n    <tr style=\"text-align: right;\">\n      <th></th>\n      <th>id</th>\n      <th>amount_tsh</th>\n      <th>date_recorded</th>\n      <th>funder</th>\n      <th>gps_height</th>\n      <th>installer</th>\n      <th>longitude</th>\n      <th>latitude</th>\n      <th>wpt_name</th>\n      <th>num_private</th>\n      <th>...</th>\n      <th>water_quality</th>\n      <th>quality_group</th>\n      <th>quantity</th>\n      <th>quantity_group</th>\n      <th>source</th>\n      <th>source_type</th>\n      <th>source_class</th>\n      <th>waterpoint_type</th>\n      <th>waterpoint_type_group</th>\n      <th>status_group</th>\n    </tr>\n  </thead>\n  <tbody>\n    <tr>\n      <td>0</td>\n      <td>69572</td>\n      <td>6000.0</td>\n      <td>2011-03-14</td>\n      <td>Roman</td>\n      <td>1390</td>\n      <td>Roman</td>\n      <td>34.938093</td>\n      <td>-9.856322</td>\n      <td>none</td>\n      <td>0</td>\n      <td>...</td>\n      <td>soft</td>\n      <td>good</td>\n      <td>enough</td>\n      <td>enough</td>\n      <td>spring</td>\n      <td>spring</td>\n      <td>groundwater</td>\n      <td>communal standpipe</td>\n      <td>communal standpipe</td>\n      <td>functional</td>\n    </tr>\n    <tr>\n      <td>1</td>\n      <td>8776</td>\n      <td>0.0</td>\n      <td>2013-03-06</td>\n      <td>Grumeti</td>\n      <td>1399</td>\n      <td>GRUMETI</td>\n      <td>34.698766</td>\n      <td>-2.147466</td>\n      <td>Zahanati</td>\n      <td>0</td>\n      <td>...</td>\n      <td>soft</td>\n      <td>good</td>\n      <td>insufficient</td>\n      <td>insufficient</td>\n      <td>rainwater harvesting</td>\n      <td>rainwater harvesting</td>\n      <td>surface</td>\n      <td>communal standpipe</td>\n      <td>communal standpipe</td>\n      <td>functional</td>\n    </tr>\n  </tbody>\n</table>\n<p>2 rows × 41 columns</p>\n</div>"
     },
     "metadata": {},
     "output_type": "execute_result",
     "execution_count": 38
    }
   ],
   "source": [
    "train_label_df.head(2)"
   ],
   "metadata": {
    "collapsed": false,
    "pycharm": {
     "name": "#%%\n",
     "is_executing": false
    }
   }
  },
  {
   "cell_type": "raw",
   "source": [
    "train_test_split"
   ],
   "metadata": {
    "collapsed": false
   }
  },
  {
   "cell_type": "code",
   "execution_count": 69,
   "outputs": [
    {
     "data": {
      "text/plain": "((44550, 41), (14850, 41), (14358, 40))"
     },
     "metadata": {},
     "output_type": "execute_result",
     "execution_count": 69
    }
   ],
   "source": [
    "# <editor-fold desc=\"train, test, split\">\n",
    "from sklearn.model_selection import train_test_split\n",
    "#Let Train, Validate, test then set features,target on .75 .25\n",
    "train, validate = train_test_split(train_label_df, train_size = 0.75, test_size =0.25, random_state=42)\n",
    "train.shape, validate.shape, test_df.shape\n",
    "#I am using whole test_df to test. so let reword test_df to simply test\n",
    "test = test_df\n",
    "train.shape, validate.shape, test.shape\n",
    "# </editor-fold>\n"
   ],
   "metadata": {
    "collapsed": false,
    "pycharm": {
     "name": "#%%\n",
     "is_executing": false
    }
   }
  },
  {
   "cell_type": "code",
   "execution_count": 70,
   "outputs": [],
   "source": [
    "# <editor-fold desc=\"wrangle function\">\n",
    "import numpy as np\n",
    "def wrangle(X):\n",
    "  #I will set boundries latitude (25,33), longitude (-14, 0)\n",
    "  X=X.copy()\n",
    "  #use number inbetween Long(25,44)   Lat (-14,0)     # can also use the replace method. many ways to do this.\n",
    "  ###############################################################################\n",
    "  #mask = ((X['longitude'] >= 22) & (X['longitude']<=44)) | ((X['latitude'] >= 1) & (X['latitude']<=-20))\n",
    "  #X = X.loc[mask]\n",
    "  ######################################################################\n",
    "  X['latitude'] = X['latitude'].replace(-2e-08, 0)\n",
    "    \n",
    "    # When columns have zeros and shouldn't, they are like null values.\n",
    "    # So we will replace the zeros with nulls, and impute missing values later.\n",
    "  cols_with_zeros = ['longitude', 'latitude']\n",
    "  for col in cols_with_zeros:\n",
    "    X[col] = X[col].replace(0, np.nan)\n",
    "  #rename 'status_group'\n",
    "  X = X.rename(columns={'status_group':'status'})\n",
    "\n",
    "  #Filter the dataframe with columns that has _group or _type in the syntax, then only list these columns.\n",
    "  #Then Drop them because columns with _group or _type are duplicate of the original name that doesn't have those substring\n",
    "  X = X.drop(X.filter(regex='_group').columns, axis=1)\n",
    "  X = X.drop(X.filter(regex='_type').columns, axis=1)\n",
    "\n",
    "  X = X.drop(columns=['basin', 'region', 'public_meeting', 'recorded_by', 'scheme_management', 'permit', 'management','quantity'])\n",
    "  return X\n",
    "# </editor-fold>"
   ],
   "metadata": {
    "collapsed": false,
    "pycharm": {
     "name": "#%%\n",
     "is_executing": false
    }
   }
  },
  {
   "cell_type": "code",
   "execution_count": 71,
   "outputs": [],
   "source": [
    "# <editor-fold desc=\"using wrangle function\">\n",
    "train = wrangle(train)\n",
    "validate = wrangle(validate)\n",
    "test = wrangle(test)\n",
    "# </editor-fold>\n"
   ],
   "metadata": {
    "collapsed": false,
    "pycharm": {
     "name": "#%%\n",
     "is_executing": false
    }
   }
  },
  {
   "cell_type": "code",
   "execution_count": 42,
   "outputs": [],
   "source": [
    "# <editor-fold desc=\"target - features\">\n",
    "target = 'status'\n",
    "\n",
    "train_features = train.drop(columns=[target,'id'])\n",
    "#In the dataframe, grab all the numeric columns, then list it into columns. Finally turn it into array.\n",
    "numeric_features = train_features.select_dtypes(include='number').columns.tolist()\n",
    "#This (not a number) columns has how many unique categories?\n",
    "cardinality = train_features.select_dtypes(exclude='number').nunique()\n",
    "#if this columns has less than 50 keep that column, and turn it into array. (important step for panda ARRAY)\n",
    "categorical_features = cardinality[cardinality <= 50].index.tolist()\n",
    "#combine the list\n",
    "features = numeric_features + categorical_features\n",
    "\n",
    "# </editor-fold>"
   ],
   "metadata": {
    "collapsed": false,
    "pycharm": {
     "name": "#%%\n",
     "is_executing": false
    }
   }
  },
  {
   "cell_type": "code",
   "execution_count": 43,
   "outputs": [],
   "source": [
    "# <editor-fold desc=\"X-y train, X-y Validtae, test\">\n",
    "X_train = train[features]\n",
    "y_train = train[target]\n",
    "\n",
    "X_validate = train[features]\n",
    "y_validate = train[target]\n",
    "\n",
    "X_test = test[features]\n",
    "# </editor-fold>\n"
   ],
   "metadata": {
    "collapsed": false,
    "pycharm": {
     "name": "#%%\n",
     "is_executing": false
    }
   }
  },
  {
   "cell_type": "code",
   "execution_count": 44,
   "outputs": [],
   "source": [
    "# <editor-fold desc=\"OneHot, SelectKbest,Ridge\">\n",
    "from sklearn.model_selection import GridSearchCV, RandomizedSearchCV\n",
    "import category_encoders as ce\n",
    "from sklearn.preprocessing import StandardScaler\n",
    "from sklearn.feature_selection import SelectKBest, f_regression\n",
    "from sklearn.linear_model import Ridge # add penalty equivalent to square of the magnitude of the coefficients\n",
    "#So ridge regression puts constraint on the coefficients\n",
    "from sklearn.pipeline import make_pipeline\n",
    "from sklearn.impute import SimpleImputer\n",
    "from sklearn.metrics import accuracy_score\n",
    "\n",
    "\n",
    "pipeline_Gridsearch_Randomized = make_pipeline(\n",
    "    ce.OneHotEncoder(use_cat_names=True),\n",
    "    SimpleImputer(),\n",
    "    StandardScaler(),\n",
    "    SelectKBest(f_regression),\n",
    "    Ridge()\n",
    ")\n",
    "#search will randomly select n_iter from this universe over cv=5 (times).\n",
    "param_distributions = {\n",
    "    'simpleimputer__strategy' : ['mean','median'],\n",
    "    'selectkbest__k' : range(1, len(X_train.columns)+1),\n",
    "    'ridge__alpha': [0.1,1,10],\n",
    "}\n",
    "search = RandomizedSearchCV(\n",
    "    pipeline_Gridsearch_Randomized,\n",
    "    param_distributions=param_distributions,\n",
    "    n_iter=30,\n",
    "    cv=5,\n",
    "    verbose=2,\n",
    "    return_train_score=False,\n",
    "    n_jobs=-1\n",
    ")\n",
    "# </editor-fold>\n",
    "#search.fit(X_train, y_train);\n"
   ],
   "metadata": {
    "collapsed": false,
    "pycharm": {
     "name": "#%%\n",
     "is_executing": false
    }
   }
  },
  {
   "cell_type": "code",
   "execution_count": 45,
   "outputs": [],
   "source": [
    "# <editor-fold desc=\"Target encoder, SimpleImputer for numericals VALUES\">\n",
    "from sklearn.model_selection import GridSearchCV, RandomizedSearchCV\n",
    "from scipy.stats import randint, uniform\n",
    "from sklearn.ensemble import RandomForestRegressor\n",
    "pipeline_TargetEncode_RandomForest = make_pipeline(\n",
    "    ce.TargetEncoder(),\n",
    "    SimpleImputer(),\n",
    "    RandomForestRegressor(random_state=42)\n",
    ")\n",
    "\n",
    "param_distributions_Target_RandomForest = {\n",
    "    'targetencoder__min_samples_leaf' : randint(1,1000),\n",
    "    'targetencoder__smoothing' : uniform(1,1000),\n",
    "    'simpleimputer__strategy': ['mean', 'median'],\n",
    "    'randomforestregressor__n_estimators' : randint(50,500),\n",
    "    'randomforestregressor__max_depth':[5,10,15,20,None],\n",
    "    'randomforestregressor__max_features': uniform(0,1),\n",
    "}\n",
    "#multi_class='auto',solver='lbfgs',cv=5,n_jobs=-1\n",
    "search_Target_random = RandomizedSearchCV(\n",
    "    pipeline_TargetEncode_RandomForest,\n",
    "    param_distributions=param_distributions_Target_RandomForest,\n",
    "    n_iter=10,\n",
    "    cv=3,\n",
    "    scoring=\"neg_mean_absolute_error\" ,\n",
    "    verbose=10,\n",
    "    return_train_score=True,\n",
    "    n_jobs=-1\n",
    ")\n",
    "# </editor-fold>"
   ],
   "metadata": {
    "collapsed": false,
    "pycharm": {
     "name": "#%%\n",
     "is_executing": false
    }
   }
  },
  {
   "cell_type": "code",
   "execution_count": 46,
   "outputs": [],
   "source": [
    "# <editor-fold desc=\"OneHotencodr, Selectkbest, Ridge\">\n",
    "import category_encoders as ce\n",
    "import numpy as np\n",
    "from sklearn.feature_selection import f_regression, SelectKBest\n",
    "from sklearn.impute import SimpleImputer\n",
    "from sklearn.linear_model import Ridge\n",
    "from sklearn.model_selection import cross_val_score\n",
    "from sklearn.pipeline import make_pipeline\n",
    "from sklearn.preprocessing import StandardScaler\n",
    "from sklearn.metrics import accuracy_score\n",
    "\n",
    "\n",
    "pipeline_OneHot_KBest_Ridge = make_pipeline(\n",
    "    ce.OneHotEncoder(use_cat_names=True),\n",
    "    SimpleImputer(strategy='mean'),\n",
    "    StandardScaler(),\n",
    "    SelectKBest(f_regression, k=20),\n",
    "    Ridge(alpha=1.0)\n",
    ")\n",
    "#k=3\n",
    "#scores = accuracy_score( pipeline_OneHot_KBest_Ridge, X_train, y_train)\n",
    "# </editor-fold>"
   ],
   "metadata": {
    "collapsed": false,
    "pycharm": {
     "name": "#%%\n",
     "is_executing": false
    }
   }
  },
  {
   "cell_type": "code",
   "execution_count": 47,
   "outputs": [],
   "source": [
    "# <editor-fold desc=\"OneHot, SelectKbest,Ridge\">\n",
    "from sklearn.model_selection import GridSearchCV, RandomizedSearchCV\n",
    "import category_encoders as ce\n",
    "from sklearn.preprocessing import StandardScaler\n",
    "from sklearn.feature_selection import SelectKBest, f_regression\n",
    "from sklearn.linear_model import Ridge # add penalty equivalent to square of the magnitude of the coefficients\n",
    "#So ridge regression puts constraint on the coefficients\n",
    "from sklearn.pipeline import make_pipeline\n",
    "from sklearn.impute import SimpleImputer\n",
    "from sklearn.metrics import accuracy_score\n",
    "\n",
    "\n",
    "pipeline_Gridsearch_Randomized = make_pipeline(\n",
    "    ce.OneHotEncoder(use_cat_names=True),\n",
    "    SimpleImputer(),\n",
    "    StandardScaler(),\n",
    "    SelectKBest(f_regression),\n",
    "    Ridge()\n",
    ")\n",
    "#search will randomly select n_iter from this universe over cv=5 (times).\n",
    "param_distributions = {\n",
    "    'simpleimputer__strategy' : ['mean','median'],\n",
    "    'selectkbest__k' : range(1, len(X_train.columns)+1),\n",
    "    'ridge__alpha': [0.1,1,10],\n",
    "}\n",
    "search = RandomizedSearchCV(\n",
    "    pipeline_Gridsearch_Randomized,\n",
    "    param_distributions=param_distributions,\n",
    "    n_iter=30,\n",
    "    cv=5,\n",
    "    verbose=2,\n",
    "    return_train_score=False,\n",
    "    n_jobs=-1\n",
    ")\n",
    "# </editor-fold>\n"
   ],
   "metadata": {
    "collapsed": false,
    "pycharm": {
     "name": "#%%\n",
     "is_executing": false
    }
   }
  },
  {
   "cell_type": "code",
   "execution_count": 52,
   "outputs": [],
   "source": [
    "\n",
    "# <editor-fold desc=\"ordinal, selectkbest and ridge for numerica\">\n",
    "import category_encoders as ce\n",
    "from sklearn.feature_selection import SelectKBest, f_classif\n",
    "\n",
    "\n",
    "pipeline_OrdinalEncoder_selectKBestCata = make_pipeline(\n",
    "    ce.OrdinalEncoder(),\n",
    "    SimpleImputer(),\n",
    "    StandardScaler(),\n",
    "    SelectKBest(f_classif, k=10),\n",
    "    Ridge()\n",
    ")\n",
    "#search will randomly select n_iter from this universe over cv=5 (times).\n",
    "param_distributions_ordinal_CataSelectKBest = {\n",
    "    'simpleimputer__strategy' : ['mean','median'],\n",
    "    'selectkbest__k' : range(1, len(X_train.columns)+1),\n",
    "    'ridge__alpha': [0.1,1,10],\n",
    "}\n",
    "search_OrdinalEncoder_SelectKBestCata = RandomizedSearchCV(\n",
    "    pipeline_OrdinalEncoder_selectKBestCata,\n",
    "    param_distributions=param_distributions_ordinal_CataSelectKBest,\n",
    "    n_iter=30,\n",
    "    cv=5,\n",
    "    verbose=10,\n",
    "    scoring='neg_mean_absolute_error',\n",
    "    return_train_score=True,\n",
    "    n_jobs=-1\n",
    ")\n",
    "# </editor-fold>"
   ],
   "metadata": {
    "collapsed": false,
    "pycharm": {
     "name": "#%%\n",
     "is_executing": false
    }
   }
  },
  {
   "cell_type": "code",
   "execution_count": 109,
   "outputs": [],
   "source": [
    "# <editor-fold desc=\"#################Randomized search for Ordinal and random forest classifer############\">\n",
    "from scipy.stats import randint,uniform\n",
    "from sklearn.impute import SimpleImputer\n",
    "from sklearn.model_selection import GridSearchCV, RandomizedSearchCV\n",
    "from sklearn.ensemble import RandomForestClassifier\n",
    "import category_encoders as ce\n",
    "from sklearn.pipeline import make_pipeline\n",
    "\n",
    "pipeline_ordinal_RandomForestClassifier = make_pipeline(\n",
    "    ce.OrdinalEncoder(), #\n",
    "    SimpleImputer(strategy='mean'), #nan = mean\n",
    "    RandomForestClassifier(n_estimators=5, random_state=42, n_jobs=-1) # more votes being cast if i increase n_estimators\n",
    ")#n_estimator is how many trees. \n",
    "\n",
    "param_distributions_Ordinal_RandomForestclassifier = {\n",
    "    'simpleimputer__stategy': 'mean',\n",
    "    'randomforestclassifier__n_estimators': 100, #this is range(1,len(X_train.columns))\n",
    "    'randomforestclassifier__max_depth': 5,\n",
    "}\n",
    "\n",
    "search_Ordinal_randomForestClassifer = RandomizedSearchCV(\n",
    "    pipeline_ordinal_RandomForestClassifier,\n",
    "    param_distributions=param_distributions_Ordinal_RandomForestclassifier,\n",
    "    n_iter=20,\n",
    "    cv=5,\n",
    "    scoring='accuracy',\n",
    "    verbose=10,\n",
    "    return_train_score=True,\n",
    "    n_jobs=-1\n",
    ")\n",
    "# </editor-fold>"
   ],
   "metadata": {
    "collapsed": false,
    "pycharm": {
     "name": "#%%\n",
     "is_executing": false
    }
   }
  },
  {
   "cell_type": "code",
   "execution_count": 109,
   "outputs": [],
   "source": [],
   "metadata": {
    "collapsed": false,
    "pycharm": {
     "name": "#%%\n",
     "is_executing": false
    }
   }
  },
  {
   "cell_type": "code",
   "execution_count": 113,
   "outputs": [
    {
     "name": "stdout",
     "text": [
      "Fitting 3 folds for each of 5 candidates, totalling 15 fits\n"
     ],
     "output_type": "stream"
    },
    {
     "name": "stderr",
     "text": [
      "[Parallel(n_jobs=-1)]: Using backend LokyBackend with 12 concurrent workers.\n",
      "[Parallel(n_jobs=-1)]: Done   2 out of  15 | elapsed:   26.8s remaining:  2.9min\n",
      "[Parallel(n_jobs=-1)]: Done   4 out of  15 | elapsed:   28.2s remaining:  1.3min\n",
      "[Parallel(n_jobs=-1)]: Done   6 out of  15 | elapsed:   31.2s remaining:   46.8s\n",
      "[Parallel(n_jobs=-1)]: Done   8 out of  15 | elapsed:   32.2s remaining:   28.2s\n",
      "[Parallel(n_jobs=-1)]: Done  10 out of  15 | elapsed:   35.7s remaining:   17.8s\n",
      "[Parallel(n_jobs=-1)]: Done  12 out of  15 | elapsed:   36.5s remaining:    9.1s\n",
      "[Parallel(n_jobs=-1)]: Done  15 out of  15 | elapsed:   37.0s finished\n"
     ],
     "output_type": "stream"
    }
   ],
   "source": [
    "# <editor-fold desc=\"###################Ordinal RandomForestclassifier,  randomizedSerachRv###################################\">\n",
    "pipeline = make_pipeline(\n",
    "    ce.OrdinalEncoder(), \n",
    "    SimpleImputer(strategy='mean'), \n",
    "    RandomForestClassifier(n_estimators=100, random_state=42, n_jobs=-1)\n",
    ")\n",
    "\n",
    "param_dist ={\n",
    "    'simpleimputer__strategy': ['mean', 'median'],\n",
    "    'randomforestclassifier__n_estimators': randint(50,500),\n",
    "    'randomforestclassifier__max_depth': [5,10,15,20,None],\n",
    "    'randomforestclassifier__max_features': uniform(0,1),   \n",
    "}\n",
    "\n",
    "search_RFClassifer = RandomizedSearchCV(\n",
    "    pipeline,\n",
    "    param_distributions=param_dist,\n",
    "    n_iter=5,\n",
    "    cv=3,\n",
    "    verbose=10,\n",
    "    scoring='accuracy',\n",
    "    return_train_score=True,\n",
    "    n_jobs=-1\n",
    ")\n",
    "# </editor-fold>"
   ],
   "metadata": {
    "collapsed": false,
    "pycharm": {
     "name": "#%%\n",
     "is_executing": false
    }
   }
  },
  {
   "cell_type": "code",
   "execution_count": 134,
   "outputs": [
    {
     "name": "stdout",
     "text": [
      "Fitting 3 folds for each of 5 candidates, totalling 15 fits\n"
     ],
     "output_type": "stream"
    },
    {
     "name": "stderr",
     "text": [
      "[Parallel(n_jobs=-1)]: Using backend LokyBackend with 12 concurrent workers.\n",
      "[Parallel(n_jobs=-1)]: Done   2 out of  15 | elapsed:   19.3s remaining:  2.1min\n",
      "[Parallel(n_jobs=-1)]: Done   4 out of  15 | elapsed:   20.7s remaining:   57.2s\n[Parallel(n_jobs=-1)]: Done   6 out of  15 | elapsed:   20.9s remaining:   31.3s\n",
      "[Parallel(n_jobs=-1)]: Done   8 out of  15 | elapsed:   21.0s remaining:   18.3s\n",
      "[Parallel(n_jobs=-1)]: Done  10 out of  15 | elapsed:   21.9s remaining:   10.9s\n",
      "[Parallel(n_jobs=-1)]: Done  12 out of  15 | elapsed:   23.6s remaining:    5.8s\n[Parallel(n_jobs=-1)]: Done  15 out of  15 | elapsed:   23.7s finished\n"
     ],
     "output_type": "stream"
    }
   ],
   "source": [
    "# Fit on train, score on val\n",
    "search_RFClassifer.fit(X_train, y_train)\n",
    "score = search_RFClassifer.score(X_train, y_train)"
   ],
   "metadata": {
    "collapsed": false,
    "pycharm": {
     "name": "#%%\n",
     "is_executing": false
    }
   }
  },
  {
   "cell_type": "code",
   "execution_count": 117,
   "outputs": [],
   "source": [
    "# <editor-fold desc=\"learnHowTOSubmit\">\n",
    "#y_pred = search_RFClassifer.predict(X_test)\n",
    "#submission_df['status_group']=y_pred\n",
    "#submission_df.to_csv('submission_ten_ten.csv', index=False)\n",
    "# </editor-fold>"
   ],
   "metadata": {
    "collapsed": false,
    "pycharm": {
     "name": "#%%\n",
     "is_executing": false
    }
   }
  },
  {
   "cell_type": "code",
   "execution_count": 151,
   "outputs": [
    {
     "data": {
      "text/plain": "array([[4617,  375, 2795],\n       [ 632,   42,  371],\n       [3268,  232, 2026]], dtype=int64)"
     },
     "metadata": {},
     "output_type": "execute_result",
     "execution_count": 151
    }
   ],
   "source": [
    "#confusion matrix only work with catagory data?\n",
    "\n",
    "validate_for_matrixthrowaway, validate_for_matrix = train_test_split(y_validate, test_size=len(test), stratify=train[target], random_state=42)\n",
    "from sklearn.metrics import confusion_matrix\n",
    "y_prediction_RFCCLassifier = search_RFClassifer.predict(X_test)\n",
    "\n",
    "confusion_matrix(validate_for_matrix,y_prediction_RFCCLassifier)\n",
    "#let make this confusion matrix easier to read."
   ],
   "metadata": {
    "collapsed": false,
    "pycharm": {
     "name": "#%%\n",
     "is_executing": false
    }
   }
  },
  {
   "cell_type": "markdown",
   "source": [
    "let make the ugly matrix better.\n",
    "let make this confusion matrix easier to read.\n",
    "1)Labels - look at the array, then copy each unique string.\n",
    "now assign the label to the column and index using a list comprehension. using for loop and adding in extra string\n",
    "use a for loop, on the assign variable = unique_labels to print out [f' {}' for .... in ....]\n",
    "now make a panda Dataframe table variable, use the confusion_matrix, literally pass this in \n",
    " such that table has the Y_true on Ith, y_pred on jth.\n",
    "use columns and index to assign the ith columns and jth row names. \n",
    "we have a nice table. put it into a sns.heatmap\n",
    "annot =True, put number in heat map\n",
    "fmt='d' - put into decimal \n",
    "cmap='viridia' = color code the matrix"
   ],
   "metadata": {
    "collapsed": false,
    "pycharm": {
     "name": "#%% md\n",
     "is_executing": false
    }
   }
  },
  {
   "cell_type": "code",
   "execution_count": 161,
   "outputs": [
    {
     "data": {
      "text/plain": "<matplotlib.axes._subplots.AxesSubplot at 0x17b09030>"
     },
     "metadata": {},
     "output_type": "execute_result",
     "execution_count": 161
    }
   ],
   "source": [
    "import seaborn as sns\n",
    "from sklearn.utils.multiclass import unique_labels\n",
    "Label = unique_labels(validate_for_matrix) \n",
    "columns = [f'Actual {labels}' for labels in Label]\n",
    "rows = [f'predicted {labels}' for labels in Label]\n",
    "table = pd.DataFrame(confusion_matrix(validate_for_matrix,y_prediction_RFCCLassifier), columns=columns,\n",
    "                     index=rows)"
   ],
   "metadata": {
    "collapsed": false,
    "pycharm": {
     "name": "#%%\n",
     "is_executing": false
    }
   }
  },
  {
   "cell_type": "code",
   "execution_count": 164,
   "outputs": [
    {
     "data": {
      "text/plain": "<matplotlib.axes._subplots.AxesSubplot at 0x18930910>"
     },
     "metadata": {},
     "output_type": "execute_result",
     "execution_count": 164
    },
    {
     "data": {
      "text/plain": "<Figure size 432x288 with 2 Axes>",
      "image/png": "[encoded data removed]"
     },
     "metadata": {
      "needs_background": "light"
     },
     "output_type": "display_data"
    }
   ],
   "source": [
    "sns.heatmap(table, annot=True, fmt='d')"
   ],
   "metadata": {
    "collapsed": false,
    "pycharm": {
     "name": "#%%\n",
     "is_executing": false
    }
   }
  },
  {
   "cell_type": "code",
   "execution_count": null,
   "outputs": [],
   "source": [
    "print('precision - 81% of the time we were absolute right. that this water pump is functional, need repair, or not.')\n",
    "print('recall - is like is should be true, but we HUMAN IDENTIFY it as false.')\n",
    "print('how many correct predictions of non-functional?',  4017)\n",
    "print('how many total predictions of non-functional', 3268+232+2026 )\n",
    "print('what the precision of non-functional?', 2026/(3268+232+2026))\n",
    "print('how many actual non-functional waterpumps?', (2026+371+2795))\n",
    "print('what the recall for non-functional',2026/(3268+232+2026))\n",
    "\n"
   ],
   "metadata": {
    "collapsed": false,
    "pycharm": {
     "name": "#%%\n"
    }
   }
  }
 ],
 "metadata": {
  "kernelspec": {
   "display_name": "Python 3",
   "language": "python",
   "name": "python3"
  },
  "language_info": {
   "codemirror_mode": {
    "name": "ipython",
    "version": 2
   },
   "file_extension": ".py",
   "mimetype": "text/x-python",
   "name": "python",
   "nbconvert_exporter": "python",
   "pygments_lexer": "ipython2",
   "version": "2.7.6"
  },
  "pycharm": {
   "stem_cell": {
    "cell_type": "raw",
    "source": [],
    "metadata": {
     "collapsed": false
    }
   }
  }
 },
 "nbformat": 4,
 "nbformat_minor": 0
}