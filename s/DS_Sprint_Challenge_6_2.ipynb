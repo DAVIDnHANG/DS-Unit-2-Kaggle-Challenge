{
 "nbformat": 4,
 "nbformat_minor": 0,
 "metadata": {
  "colab": {
   "name": "DS_Sprint_Challenge_6.ipynb",
   "provenance": [],
   "collapsed_sections": []
  },
  "kernelspec": {
   "display_name": "Python 3",
   "language": "python",
   "name": "python3"
  },
  "language_info": {
   "codemirror_mode": {
    "name": "ipython",
    "version": 3
   },
   "file_extension": ".py",
   "mimetype": "text/x-python",
   "name": "python",
   "nbconvert_exporter": "python",
   "pygments_lexer": "ipython3",
   "version": "3.7.3"
  },
  "pycharm": {
   "stem_cell": {
    "cell_type": "raw",
    "source": [],
    "metadata": {
     "collapsed": false
    }
   }
  }
 },
 "cells": [
  {
   "cell_type": "markdown",
   "metadata": {
    "colab_type": "text",
    "id": "M3XH_XLsy_Bn"
   },
   "source": [
    "_Lambda School Data Science, Unit 2_\n",
    "# Sprint Challenge: Predict Steph Curry's shots 🏀\n",
    "For your Sprint Challenge, you'll use a dataset with all Steph Curry's NBA field goal attempts. \n",
    "(Regular season and playoff games, from October 28, 2009, through June 5, 2019.) \n",
    "You'll predict whether each shot was made, using information about the shot and the game. This is hard to predict! Try to get above 60% accuracy. The dataset was collected with the [nba_api](https://github.com/swar/nba_api) Python library."
   ]
  },
  {
   "cell_type": "code",
   "metadata": {
    "colab_type": "code",
    "id": "Nw3CL7TE7tNq",
    "colab": {}
   },
   "source": [
    "%%capture\n",
    "import sys\n",
    "if 'google.colab' in sys.modules:\n",
    "    # Install packages in Colab\n",
    "    !pip install category_encoders==2.*\n",
    "    !pip install pandas-profiling==2.*"
   ],
   "execution_count": 0,
   "outputs": []
  },
  {
   "cell_type": "code",
   "metadata": {
    "colab_type": "code",
    "id": "-Nm24pCHy_Bo",
    "colab": {},
    "pycharm": {
     "is_executing": false
    }
   },
   "source": [
    "# Read data\n",
    "import pandas as pd\n",
    "url = 'https://drive.google.com/uc?export=download&id=1fL7KPyxgGYfQDsuJoBWHIWwCAf-HTFpX'\n",
    "df = pd.read_csv(url)\n",
    "# Check data shape\n",
    "assert df.shape == (13958, 20)"
   ],
   "execution_count": 141,
   "outputs": []
  },
  {
   "cell_type": "markdown",
   "metadata": {
    "colab_type": "text",
    "id": "B8BvDKLFy_Bq"
   },
   "source": [
    "To demonstrate mastery on your Sprint Challenge, do all the required, numbered instructions in this notebook.\n",
    "To earn a score of \"3\", also do all the stretch goals.\n",
    "You are permitted and encouraged to do as much data exploration as you want.\n",
    "**1. Begin with baselines for classification.** Your target to predict is `shot_made_flag`. What is your baseline accuracy, if you guessed the majority class for every prediction?\n",
    "**2. Hold out your test set.** Use the 2018-19 season to test. NBA seasons begin in October and end in June. You'll know you've split the data correctly when your test set has 1,709 observations.\n",
    "**3. Engineer new feature.** Engineer at least **1** new feature, from this list, or your own idea.\n",
    "- **Homecourt Advantage**: Is the home team (`htm`) the Golden State Warriors (`GSW`) ?\n",
    "- **Opponent**: Who is the other team playing the Golden State Warriors?\n",
    "- **Seconds remaining in the period**: Combine minutes remaining with seconds remaining, to get the total number of seconds remaining in the period.\n",
    "- **Seconds remaining in the game**: Combine period, and seconds remaining in the period, to get the total number of seconds remaining in the game. A basketball game has 4 periods, each 12 minutes long.\n",
    "- **Made previous shot**: Was Steph Curry's previous shot successful?\n",
    "**4. Decide how to validate** your model. Choose one of the following options. Any of these options are good. You are not graded on which you choose.\n",
    "- **Train/validate/test split: train on the 2009-10 season through 2016-17 season, validate with the 2017-18 season.** You'll know you've split the data correctly when your train set has 11,081 observations, and your validation set has 1,168 observations.\n",
    "- **Train/validate/test split: random 80/20%** train/validate split.\n",
    "- **Cross-validation** with independent test set. You may use any scikit-learn cross-validation method.\n",
    "**5.** Use a scikit-learn **pipeline** to **encode categoricals** and fit a **Decision Tree** or **Random Forest** model.\n",
    "**6.** Get your model's **validation accuracy.** (Multiple times if you try multiple iterations.) \n",
    "**7.** Get your model's **test accuracy.** (One time, at the end.)\n",
    "**8.** Given a **confusion matrix** for a hypothetical binary classification model, **calculate accuracy, precision, and recall.**\n",
    "### Stretch Goals\n",
    "- Engineer 4+ new features total, either from the list above, or your own ideas.\n",
    "- Make 2+ visualizations to explore relationships between features and target.\n",
    "- Optimize 3+ hyperparameters by trying 10+ \"candidates\" (possible combinations of hyperparameters). You can use `RandomizedSearchCV` or do it manually.\n",
    "- Get and plot your model's feature importances."
   ]
  },
  {
   "cell_type": "markdown",
   "metadata": {
    "colab_type": "text",
    "id": "t6Jt3qjQ-zig"
   },
   "source": [
    "## 1. Begin with baselines for classification. \n",
    ">Your target to predict is `shot_made_flag`. What would your baseline accuracy be, if you guessed the majority class for every prediction?"
   ]
  },
  {
   "cell_type": "code",
   "metadata": {
    "colab_type": "code",
    "id": "I0BDeNFG_Kee",
    "colab": {},
    "pycharm": {
     "is_executing": false
    }
   },
   "source": [
    "print(pd.value_counts(df.shot_made_flag,normalize=True))\n",
    "print('curry miss 52% of his show, whereas he made 47.2 throughout oct 28 - June5')"
   ],
   "execution_count": 142,
   "outputs": [
    {
     "name": "stdout",
     "text": [
      "0    0.527081\n1    0.472919\nName: shot_made_flag, dtype: float64\ncurry miss 52% of his show, whereas he made 47.2 throughout oct 28 - June5\n"
     ],
     "output_type": "stream"
    }
   ]
  },
  {
   "cell_type": "markdown",
   "metadata": {
    "colab_type": "text",
    "id": "Dz2QHBiVy_Br"
   },
   "source": [
    "## 2. Hold out your test set.\n",
    "\n",
    ">Use the 2018-19 season to test. NBA seasons begin in October and end in June. You'll know you've split the data correctly when your test set has 1,709 observations."
   ]
  },
  {
   "cell_type": "code",
   "execution_count": 143,
   "outputs": [
    {
     "data": {
      "text/plain": "0        2009-10-28\n1        2009-10-28\n2        2009-10-28\n3        2009-10-28\n4        2009-10-28\n            ...    \n13953    2019-06-05\n13954    2019-06-05\n13955    2019-06-05\n13956    2019-06-05\n13957    2019-06-05\nName: game_date, Length: 13958, dtype: object"
     },
     "metadata": {},
     "output_type": "execute_result",
     "execution_count": 143
    }
   ],
   "source": [
    "df['game_date']"
   ],
   "metadata": {
    "collapsed": false,
    "pycharm": {
     "name": "#%%\n",
     "is_executing": false
    }
   }
  },
  {
   "cell_type": "code",
   "metadata": {
    "colab_type": "code",
    "id": "OPod6lBG_wTT",
    "colab": {},
    "pycharm": {
     "is_executing": false
    }
   },
   "source": [
    "df.head(3)\n",
    "df['game_date'] = pd.to_datetime(df['game_date'])\n",
    "start_date = '2018-10-15'\n",
    "end_date = '2019-07-01'\n",
    "mask = (df['game_date'] >= start_date) & (df['game_date'] <= end_date)\n",
    "test_2018_2019 = df.loc[mask]\n",
    "test_2018_2019.shape"
   ],
   "execution_count": 144,
   "outputs": [
    {
     "data": {
      "text/plain": "(1709, 20)"
     },
     "metadata": {},
     "output_type": "execute_result",
     "execution_count": 144
    }
   ]
  },
  {
   "cell_type": "markdown",
   "metadata": {
    "colab_type": "text",
    "id": "P9Nihzk6y_CF"
   },
   "source": [
    "## 3. Engineer new feature.\n",
    "\n",
    ">Engineer at least **1** new feature, from this list, or your own idea.\n",
    ">\n",
    ">- **Homecourt Advantage**: Is the home team (`htm`) the Golden State Warriors (`GSW`) ?\n",
    ">- **Opponent**: Who is the other team playing the Golden State Warriors?\n",
    ">- **Seconds remaining in the period**: Combine minutes remaining with seconds remaining, to get the total number of seconds remaining in the period.\n",
    ">- **Seconds remaining in the game**: Combine period, and seconds remaining in the period, to get the total number of seconds remaining in the game. A basketball game has 4 periods, each 12 minutes long.\n",
    ">- **Made previous shot**: Was Steph Curry's previous shot successful?"
   ]
  },
  {
   "cell_type": "code",
   "execution_count": 145,
   "outputs": [
    {
     "data": {
      "text/plain": "    game_id  game_event_id    player_name  period  minutes_remaining  \\\n0  20900015              4  Stephen Curry       1                 11   \n1  20900015             17  Stephen Curry       1                  9   \n2  20900015             53  Stephen Curry       1                  6   \n3  20900015            141  Stephen Curry       2                  9   \n4  20900015            249  Stephen Curry       2                  2   \n\n   seconds_remaining          action_type       shot_type  \\\n0                 25            Jump Shot  3PT Field Goal   \n1                 31  Step Back Jump shot  2PT Field Goal   \n2                  2            Jump Shot  2PT Field Goal   \n3                 49            Jump Shot  2PT Field Goal   \n4                 19            Jump Shot  2PT Field Goal   \n\n         shot_zone_basic         shot_zone_area  ... loc_x  loc_y  \\\n0      Above the Break 3  Right Side Center(RC)  ...    99    249   \n1              Mid-Range   Left Side Center(LC)  ...  -122    145   \n2  In The Paint (Non-RA)              Center(C)  ...   -60    129   \n3              Mid-Range           Left Side(L)  ...  -172     82   \n4              Mid-Range   Left Side Center(LC)  ...   -68    148   \n\n   shot_made_flag  game_date  htm  vtm     season_type  \\\n0               0 2009-10-28  GSW  HOU  Regular Season   \n1               1 2009-10-28  GSW  HOU  Regular Season   \n2               0 2009-10-28  GSW  HOU  Regular Season   \n3               0 2009-10-28  GSW  HOU  Regular Season   \n4               0 2009-10-28  GSW  HOU  Regular Season   \n\n  scoremargin_before_shot HomeCourt  clutch  \n0                     2.0      True   False  \n1                     0.0      True   False  \n2                    -4.0      True   False  \n3                    -4.0      True   False  \n4                     0.0      True   False  \n\n[5 rows x 22 columns]",
      "text/html": "<div>\n<style scoped>\n    .dataframe tbody tr th:only-of-type {\n        vertical-align: middle;\n    }\n\n    .dataframe tbody tr th {\n        vertical-align: top;\n    }\n\n    .dataframe thead th {\n        text-align: right;\n    }\n</style>\n<table border=\"1\" class=\"dataframe\">\n  <thead>\n    <tr style=\"text-align: right;\">\n      <th></th>\n      <th>game_id</th>\n      <th>game_event_id</th>\n      <th>player_name</th>\n      <th>period</th>\n      <th>minutes_remaining</th>\n      <th>seconds_remaining</th>\n      <th>action_type</th>\n      <th>shot_type</th>\n      <th>shot_zone_basic</th>\n      <th>shot_zone_area</th>\n      <th>...</th>\n      <th>loc_x</th>\n      <th>loc_y</th>\n      <th>shot_made_flag</th>\n      <th>game_date</th>\n      <th>htm</th>\n      <th>vtm</th>\n      <th>season_type</th>\n      <th>scoremargin_before_shot</th>\n      <th>HomeCourt</th>\n      <th>clutch</th>\n    </tr>\n  </thead>\n  <tbody>\n    <tr>\n      <td>0</td>\n      <td>20900015</td>\n      <td>4</td>\n      <td>Stephen Curry</td>\n      <td>1</td>\n      <td>11</td>\n      <td>25</td>\n      <td>Jump Shot</td>\n      <td>3PT Field Goal</td>\n      <td>Above the Break 3</td>\n      <td>Right Side Center(RC)</td>\n      <td>...</td>\n      <td>99</td>\n      <td>249</td>\n      <td>0</td>\n      <td>2009-10-28</td>\n      <td>GSW</td>\n      <td>HOU</td>\n      <td>Regular Season</td>\n      <td>2.0</td>\n      <td>True</td>\n      <td>False</td>\n    </tr>\n    <tr>\n      <td>1</td>\n      <td>20900015</td>\n      <td>17</td>\n      <td>Stephen Curry</td>\n      <td>1</td>\n      <td>9</td>\n      <td>31</td>\n      <td>Step Back Jump shot</td>\n      <td>2PT Field Goal</td>\n      <td>Mid-Range</td>\n      <td>Left Side Center(LC)</td>\n      <td>...</td>\n      <td>-122</td>\n      <td>145</td>\n      <td>1</td>\n      <td>2009-10-28</td>\n      <td>GSW</td>\n      <td>HOU</td>\n      <td>Regular Season</td>\n      <td>0.0</td>\n      <td>True</td>\n      <td>False</td>\n    </tr>\n    <tr>\n      <td>2</td>\n      <td>20900015</td>\n      <td>53</td>\n      <td>Stephen Curry</td>\n      <td>1</td>\n      <td>6</td>\n      <td>2</td>\n      <td>Jump Shot</td>\n      <td>2PT Field Goal</td>\n      <td>In The Paint (Non-RA)</td>\n      <td>Center(C)</td>\n      <td>...</td>\n      <td>-60</td>\n      <td>129</td>\n      <td>0</td>\n      <td>2009-10-28</td>\n      <td>GSW</td>\n      <td>HOU</td>\n      <td>Regular Season</td>\n      <td>-4.0</td>\n      <td>True</td>\n      <td>False</td>\n    </tr>\n    <tr>\n      <td>3</td>\n      <td>20900015</td>\n      <td>141</td>\n      <td>Stephen Curry</td>\n      <td>2</td>\n      <td>9</td>\n      <td>49</td>\n      <td>Jump Shot</td>\n      <td>2PT Field Goal</td>\n      <td>Mid-Range</td>\n      <td>Left Side(L)</td>\n      <td>...</td>\n      <td>-172</td>\n      <td>82</td>\n      <td>0</td>\n      <td>2009-10-28</td>\n      <td>GSW</td>\n      <td>HOU</td>\n      <td>Regular Season</td>\n      <td>-4.0</td>\n      <td>True</td>\n      <td>False</td>\n    </tr>\n    <tr>\n      <td>4</td>\n      <td>20900015</td>\n      <td>249</td>\n      <td>Stephen Curry</td>\n      <td>2</td>\n      <td>2</td>\n      <td>19</td>\n      <td>Jump Shot</td>\n      <td>2PT Field Goal</td>\n      <td>Mid-Range</td>\n      <td>Left Side Center(LC)</td>\n      <td>...</td>\n      <td>-68</td>\n      <td>148</td>\n      <td>0</td>\n      <td>2009-10-28</td>\n      <td>GSW</td>\n      <td>HOU</td>\n      <td>Regular Season</td>\n      <td>0.0</td>\n      <td>True</td>\n      <td>False</td>\n    </tr>\n  </tbody>\n</table>\n<p>5 rows × 22 columns</p>\n</div>"
     },
     "metadata": {},
     "output_type": "execute_result",
     "execution_count": 145
    }
   ],
   "source": [
    "df.head(3)\n",
    "def engineer_features(df):\n",
    "    #avoid copy warning\n",
    "    df = df.copy()\n",
    "    #Does GSW have homecourt advanture?\n",
    "    df['HomeCourt'] = df['htm'] == 'GSW'\n",
    "    #does curry clutching taken a shot under 20 second in very close game?\n",
    "    df['clutch'] =( (df['minutes_remaining'] == 0) & (df['seconds_remaining'] <= 10) & \n",
    "                    (df['scoremargin_before_shot'] > -4) & (df['scoremargin_before_shot'] < 0) &\n",
    "                    (df['period'] == 4)\n",
    "                    )    \n",
    "    return df\n",
    "df = engineer_features(df)\n",
    "test_2018_2019 = engineer_features(test_2018_2019)\n",
    "df.head()"
   ],
   "metadata": {
    "collapsed": false,
    "pycharm": {
     "name": "#%%\n",
     "is_executing": false
    }
   }
  },
  {
   "cell_type": "markdown",
   "metadata": {
    "colab_type": "text",
    "id": "eLs7pt7NFJLF"
   },
   "source": [
    "## **4. Decide how to validate** your model. \n",
    ">Choose one of the following options. Any of these options are good. You are not graded on which you choose.\n",
    ">- **Train/validate/test split: train on the 2009-10 season through 2016-17 season, validate with the 2017-18 season.** You'll know you've split the data correctly when your train set has 11,081 observations, and your validation set has 1,168 observations.\n",
    ">- **Train/validate/test split: random 80/20%** train/validate split.\n",
    ">- **Cross-validation** with independent test set. You may use any scikit-learn cross-validation method."
   ]
  },
  {
   "cell_type": "code",
   "metadata": {
    "colab_type": "code",
    "id": "LJ58CceDISXR",
    "colab": {},
    "pycharm": {
     "is_executing": false
    }
   },
   "source": [
    "df['game_date'] = pd.to_datetime(df['game_date'])\n",
    "start_date_train = '2008-10-15'\n",
    "end_date_train = '2017-07-01'\n",
    "mask_09_10 = (df['game_date'] >= start_date_train) & (df['game_date'] <= end_date_train)\n",
    "train_2009_2017 = df.loc[mask_09_10]\n",
    "print(train_2009_2017.shape)\n",
    "\n",
    "start_date_validate = '2017-10-15'\n",
    "end_date_validate= '2018-07-01'\n",
    "mask_17_18 = (df['game_date'] >= start_date_validate) & (df['game_date'] <= end_date_validate)\n",
    "validate_2017_2018 = df.loc[mask_17_18]\n",
    "train_2009_2017['shot_made_flag'] = train_2009_2017['shot_made_flag'].astype(str)\n",
    "validate_2017_2018['shot_made_flag'] = validate_2017_2018['shot_made_flag'].astype(str)"
   ],
   "execution_count": 146,
   "outputs": [
    {
     "name": "stdout",
     "text": [
      "(11081, 22)\n"
     ],
     "output_type": "stream"
    },
    {
     "name": "stderr",
     "text": [
      "c:\\users\\d3mona\\appdata\\local\\programs\\python\\python37-32\\lib\\site-packages\\ipykernel_launcher.py:12: SettingWithCopyWarning: \nA value is trying to be set on a copy of a slice from a DataFrame.\nTry using .loc[row_indexer,col_indexer] = value instead\n\nSee the caveats in the documentation: http://pandas.pydata.org/pandas-docs/stable/user_guide/indexing.html#returning-a-view-versus-a-copy\n  if sys.path[0] == '':\nc:\\users\\d3mona\\appdata\\local\\programs\\python\\python37-32\\lib\\site-packages\\ipykernel_launcher.py:13: SettingWithCopyWarning: \nA value is trying to be set on a copy of a slice from a DataFrame.\nTry using .loc[row_indexer,col_indexer] = value instead\n\nSee the caveats in the documentation: http://pandas.pydata.org/pandas-docs/stable/user_guide/indexing.html#returning-a-view-versus-a-copy\n  del sys.path[0]\n"
     ],
     "output_type": "stream"
    }
   ]
  },
  {
   "cell_type": "code",
   "execution_count": 179,
   "outputs": [],
   "source": [
    "test_2018_2019['shot_made_flag'] = test_2018_2019['shot_made_flag'].astype(str)"
   ],
   "metadata": {
    "collapsed": false,
    "pycharm": {
     "name": "#%%\n",
     "is_executing": false
    }
   }
  },
  {
   "cell_type": "code",
   "execution_count": null,
   "outputs": [],
   "source": [
    "#drop columns\n",
    "target = 'shot_made_flag'\n",
    "#I want these features to be tested upon\n",
    "features_in = df.drop(columns=[target ,'game_date', 'player_name','game_id','game_event_id'], axis=1)\n",
    "#rearrange to numeric value then catagory\n",
    "numeric_features = features_in.select_dtypes(include='number').columns.tolist()\n",
    "cardinality = features_in.select_dtypes(exclude='number').nunique()\n",
    "features_cardinality = cardinality[cardinality <= 10].index.tolist()\n",
    "features = numeric_features + features_cardinality"
   ],
   "metadata": {
    "collapsed": false,
    "pycharm": {
     "name": "#%%\n"
    }
   }
  },
  {
   "cell_type": "code",
   "execution_count": 126,
   "outputs": [
    {
     "data": {
      "text/plain": "11081    1\n11082    0\n11083    0\n11084    0\n11085    1\n11086    1\n11087    0\n11088    1\n11089    0\n11090    0\n11091    0\n11092    0\n11093    1\n11094    1\n11095    1\n11096    1\n11097    0\n11098    0\n11099    0\n11100    0\n11101    1\n11102    0\n11103    0\n11104    1\n11105    1\n11106    1\n11107    0\n11108    0\n11109    1\n11110    0\n11111    1\n11112    0\n11113    0\n11114    1\n11115    0\n11116    1\n11117    1\n11118    0\n11119    0\n11120    1\n11121    1\n11122    1\n11123    0\n11124    0\n11125    0\n11126    1\n11127    0\n11128    0\n11129    1\n11130    1\n11131    1\n11132    1\n11133    0\n11134    0\n11135    0\nName: shot_made_flag, dtype: int64"
     },
     "metadata": {},
     "output_type": "execute_result",
     "execution_count": 126
    }
   ],
   "source": [],
   "metadata": {
    "collapsed": false,
    "pycharm": {
     "name": "#%%\n",
     "is_executing": false
    }
   }
  },
  {
   "cell_type": "code",
   "execution_count": 180,
   "outputs": [],
   "source": [
    "#assign features to X and target to y\n",
    "X_train_09_17 = train_2009_2017[features]\n",
    "y_train_09_17 = train_2009_2017[target]\n",
    "\n",
    "X_Validate_17_18 = validate_2017_2018[features]\n",
    "y_validate_17_18 = validate_2017_2018[target]\n",
    "\n",
    "X_test = test_2018_2019[features]\n",
    "y_test = test_2018_2019[target]"
   ],
   "metadata": {
    "collapsed": false,
    "pycharm": {
     "name": "#%%\n",
     "is_executing": false
    }
   }
  },
  {
   "cell_type": "code",
   "execution_count": 149,
   "outputs": [
    {
     "data": {
      "text/plain": "dtype('O')"
     },
     "metadata": {},
     "output_type": "execute_result",
     "execution_count": 149
    }
   ],
   "source": [
    "y_train_09_17.dtypes"
   ],
   "metadata": {
    "collapsed": false,
    "pycharm": {
     "name": "#%%\n",
     "is_executing": false
    }
   }
  },
  {
   "cell_type": "markdown",
   "source": [
    "## 5. Use a scikit-learn pipeline to encode categoricals and fit a Decision Tree or Random Forest model."
   ],
   "metadata": {
    "collapsed": false
   }
  },
  {
   "cell_type": "code",
   "execution_count": 128,
   "outputs": [],
   "source": [
    "from scipy.stats import randint,uniform\n",
    "from sklearn.impute import SimpleImputer\n",
    "from sklearn.model_selection import GridSearchCV, RandomizedSearchCV\n",
    "from sklearn.ensemble import RandomForestClassifier\n",
    "import category_encoders as ce\n",
    "from sklearn.pipeline import make_pipeline\n",
    "\n",
    "pipeline_Ordinary_RandomForestClassifier = make_pipeline(\n",
    "    ce.OrdinalEncoder(),\n",
    "    SimpleImputer(strategy='mean'),\n",
    "    RandomForestClassifier(n_estimators=6, random_state=42,n_jobs=-1)\n",
    ")\n",
    "Parameter_distrubution_Ordinary_randomForestClassifer = {\n",
    "    'simpleimputer__strategy' : 'mean',\n",
    "    'randomforestclassifier__n_estimators': 100,\n",
    "    'randomforestclassifier__max_depth': 5,\n",
    "}\n",
    "\n",
    "search_Ordinary_randomForestClassifier = RandomizedSearchCV(\n",
    "    pipeline_Ordinary_RandomForestClassifier,\n",
    "    param_distributions=Parameter_distrubution_Ordinary_randomForestClassifer,\n",
    "    n_iter=5,\n",
    "    cv=5,\n",
    "    scoring='accuracy',\n",
    "    verbose=10,\n",
    "    return_train_score=True,\n",
    "    n_jobs=-1\n",
    ")"
   ],
   "metadata": {
    "collapsed": false,
    "pycharm": {
     "name": "#%%\n",
     "is_executing": false
    }
   }
  },
  {
   "cell_type": "code",
   "execution_count": 150,
   "outputs": [],
   "source": [
    "# <editor-fold desc=\"###################Ordinal RandomForestclassifier,  randomizedSerachRv###################################\">\n",
    "pipeline = make_pipeline(\n",
    "    ce.OrdinalEncoder(), \n",
    "    SimpleImputer(strategy='mean'), \n",
    "    RandomForestClassifier(n_estimators=100, random_state=42, n_jobs=-1)\n",
    ")\n",
    "\n",
    "param_dist ={\n",
    "    'simpleimputer__strategy': ['mean'],\n",
    "    'randomforestclassifier__n_estimators': randint(50,500),\n",
    "    'randomforestclassifier__max_depth': [5,10,15,None],\n",
    "    'randomforestclassifier__max_features': uniform(0,1),   \n",
    "}\n",
    "\n",
    "search_RFClassifer = RandomizedSearchCV(\n",
    "    pipeline,\n",
    "    param_distributions=param_dist,\n",
    "    n_iter=5,\n",
    "    cv=3,\n",
    "    verbose=10,\n",
    "    scoring='accuracy',\n",
    "    return_train_score=True,\n",
    "    n_jobs=-1\n",
    ")\n",
    "# </editor-fold>"
   ],
   "metadata": {
    "collapsed": false,
    "pycharm": {
     "name": "#%%\n",
     "is_executing": false
    }
   }
  },
  {
   "cell_type": "code",
   "execution_count": 151,
   "outputs": [
    {
     "name": "stdout",
     "text": [
      "Fitting 3 folds for each of 5 candidates, totalling 15 fits\n"
     ],
     "output_type": "stream"
    },
    {
     "name": "stderr",
     "text": [
      "[Parallel(n_jobs=-1)]: Using backend LokyBackend with 12 concurrent workers.\n",
      "[Parallel(n_jobs=-1)]: Done   2 out of  15 | elapsed:   10.1s remaining:  1.1min\n",
      "[Parallel(n_jobs=-1)]: Done   4 out of  15 | elapsed:   10.5s remaining:   29.0s\n[Parallel(n_jobs=-1)]: Done   6 out of  15 | elapsed:   10.5s remaining:   15.8s\n[Parallel(n_jobs=-1)]: Done   8 out of  15 | elapsed:   10.6s remaining:    9.2s\n",
      "[Parallel(n_jobs=-1)]: Done  10 out of  15 | elapsed:   10.8s remaining:    5.3s\n",
      "[Parallel(n_jobs=-1)]: Done  12 out of  15 | elapsed:   12.8s remaining:    3.1s\n",
      "[Parallel(n_jobs=-1)]: Done  15 out of  15 | elapsed:   13.7s finished\n"
     ],
     "output_type": "stream"
    },
    {
     "data": {
      "text/plain": "RandomizedSearchCV(cv=3, error_score='raise-deprecating',\n                   estimator=Pipeline(memory=None,\n                                      steps=[('ordinalencoder',\n                                              OrdinalEncoder(cols=None,\n                                                             drop_invariant=False,\n                                                             handle_missing='value',\n                                                             handle_unknown='value',\n                                                             mapping=None,\n                                                             return_df=True,\n                                                             verbose=0)),\n                                             ('simpleimputer',\n                                              SimpleImputer(add_indicator=False,\n                                                            copy=True,\n                                                            fill_value=None,\n                                                            missing_values=nan,\n                                                            strategy='...\n                                                                              None],\n                                        'randomforestclassifier__max_features': <scipy.stats._distn_infrastructure.rv_frozen object at 0x193DE090>,\n                                        'randomforestclassifier__n_estimators': <scipy.stats._distn_infrastructure.rv_frozen object at 0x193DE6D0>,\n                                        'simpleimputer__strategy': ['mean']},\n                   pre_dispatch='2*n_jobs', random_state=None, refit=True,\n                   return_train_score=True, scoring='accuracy', verbose=10)"
     },
     "metadata": {},
     "output_type": "execute_result",
     "execution_count": 151
    }
   ],
   "source": [
    "search_RFClassifer.fit(X_train_09_17,y_train_09_17)"
   ],
   "metadata": {
    "collapsed": false,
    "pycharm": {
     "name": "#%%\n",
     "is_executing": false
    }
   }
  },
  {
   "cell_type": "markdown",
   "metadata": {
    "colab_type": "text",
    "id": "8kJXxFpty_CH"
   },
   "source": [
    "## 6.Get your model's validation accuracy\n",
    "> (Multiple times if you try multiple iterations.)"
   ]
  },
  {
   "cell_type": "code",
   "metadata": {
    "colab_type": "code",
    "id": "7560JKvxy_CJ",
    "colab": {},
    "pycharm": {
     "is_executing": false
    }
   },
   "source": [
    "score = search_RFClassifer.score(X_Validate_17_18,y_validate_17_18)\n",
    "print('accuracy validation is', score)"
   ],
   "execution_count": 152,
   "outputs": [
    {
     "name": "stdout",
     "text": [
      "accuracy validation is 0.5659246575342466\n"
     ],
     "output_type": "stream"
    }
   ]
  },
  {
   "cell_type": "markdown",
   "metadata": {
    "colab_type": "text",
    "id": "YvyYY9tfy_CL"
   },
   "source": [
    "## 7. Get your model's test accuracy\n",
    "> (One time, at the end.)"
   ]
  },
  {
   "cell_type": "code",
   "execution_count": 164,
   "outputs": [
    {
     "data": {
      "text/plain": "       period  minutes_remaining  seconds_remaining  shot_distance  loc_x  \\\n12249       1                 11                 31             24    226   \n12250       1                  7                 57              6     -2   \n12251       1                  3                 46              2      5   \n12252       1                  2                 58              1     -6   \n12253       1                  2                 49             22   -228   \n...       ...                ...                ...            ...    ...   \n13953       4                  8                  1             12      3   \n13954       4                  7                 16             11    114   \n13955       4                  5                 27             26   -217   \n13956       4                  4                 50              7     59   \n13957       4                  2                 47             24   -226   \n\n       loc_y  scoremargin_before_shot       shot_type        shot_zone_basic  \\\n12249     90                      0.0  3PT Field Goal      Above the Break 3   \n12250     63                      4.0  2PT Field Goal  In The Paint (Non-RA)   \n12251     29                      4.0  2PT Field Goal        Restricted Area   \n12252     18                      7.0  2PT Field Goal        Restricted Area   \n12253      8                      7.0  3PT Field Goal          Left Corner 3   \n...      ...                      ...             ...                    ...   \n13953    120                    -13.0  2PT Field Goal  In The Paint (Non-RA)   \n13954     -5                    -14.0  2PT Field Goal              Mid-Range   \n13955    149                    -17.0  3PT Field Goal      Above the Break 3   \n13956     49                    -16.0  2PT Field Goal  In The Paint (Non-RA)   \n13957    104                    -12.0  3PT Field Goal      Above the Break 3   \n\n              shot_zone_area  shot_zone_range     season_type  HomeCourt  \\\n12249  Right Side Center(RC)          24+ ft.  Regular Season       True   \n12250              Center(C)  Less Than 8 ft.  Regular Season       True   \n12251              Center(C)  Less Than 8 ft.  Regular Season       True   \n12252              Center(C)  Less Than 8 ft.  Regular Season       True   \n12253           Left Side(L)          24+ ft.  Regular Season       True   \n...                      ...              ...             ...        ...   \n13953              Center(C)         8-16 ft.        Playoffs       True   \n13954          Right Side(R)         8-16 ft.        Playoffs       True   \n13955   Left Side Center(LC)          24+ ft.        Playoffs       True   \n13956              Center(C)  Less Than 8 ft.        Playoffs       True   \n13957   Left Side Center(LC)          24+ ft.        Playoffs       True   \n\n       clutch  \n12249   False  \n12250   False  \n12251   False  \n12252   False  \n12253   False  \n...       ...  \n13953   False  \n13954   False  \n13955   False  \n13956   False  \n13957   False  \n\n[1709 rows x 14 columns]",
      "text/html": "<div>\n<style scoped>\n    .dataframe tbody tr th:only-of-type {\n        vertical-align: middle;\n    }\n\n    .dataframe tbody tr th {\n        vertical-align: top;\n    }\n\n    .dataframe thead th {\n        text-align: right;\n    }\n</style>\n<table border=\"1\" class=\"dataframe\">\n  <thead>\n    <tr style=\"text-align: right;\">\n      <th></th>\n      <th>period</th>\n      <th>minutes_remaining</th>\n      <th>seconds_remaining</th>\n      <th>shot_distance</th>\n      <th>loc_x</th>\n      <th>loc_y</th>\n      <th>scoremargin_before_shot</th>\n      <th>shot_type</th>\n      <th>shot_zone_basic</th>\n      <th>shot_zone_area</th>\n      <th>shot_zone_range</th>\n      <th>season_type</th>\n      <th>HomeCourt</th>\n      <th>clutch</th>\n    </tr>\n  </thead>\n  <tbody>\n    <tr>\n      <td>12249</td>\n      <td>1</td>\n      <td>11</td>\n      <td>31</td>\n      <td>24</td>\n      <td>226</td>\n      <td>90</td>\n      <td>0.0</td>\n      <td>3PT Field Goal</td>\n      <td>Above the Break 3</td>\n      <td>Right Side Center(RC)</td>\n      <td>24+ ft.</td>\n      <td>Regular Season</td>\n      <td>True</td>\n      <td>False</td>\n    </tr>\n    <tr>\n      <td>12250</td>\n      <td>1</td>\n      <td>7</td>\n      <td>57</td>\n      <td>6</td>\n      <td>-2</td>\n      <td>63</td>\n      <td>4.0</td>\n      <td>2PT Field Goal</td>\n      <td>In The Paint (Non-RA)</td>\n      <td>Center(C)</td>\n      <td>Less Than 8 ft.</td>\n      <td>Regular Season</td>\n      <td>True</td>\n      <td>False</td>\n    </tr>\n    <tr>\n      <td>12251</td>\n      <td>1</td>\n      <td>3</td>\n      <td>46</td>\n      <td>2</td>\n      <td>5</td>\n      <td>29</td>\n      <td>4.0</td>\n      <td>2PT Field Goal</td>\n      <td>Restricted Area</td>\n      <td>Center(C)</td>\n      <td>Less Than 8 ft.</td>\n      <td>Regular Season</td>\n      <td>True</td>\n      <td>False</td>\n    </tr>\n    <tr>\n      <td>12252</td>\n      <td>1</td>\n      <td>2</td>\n      <td>58</td>\n      <td>1</td>\n      <td>-6</td>\n      <td>18</td>\n      <td>7.0</td>\n      <td>2PT Field Goal</td>\n      <td>Restricted Area</td>\n      <td>Center(C)</td>\n      <td>Less Than 8 ft.</td>\n      <td>Regular Season</td>\n      <td>True</td>\n      <td>False</td>\n    </tr>\n    <tr>\n      <td>12253</td>\n      <td>1</td>\n      <td>2</td>\n      <td>49</td>\n      <td>22</td>\n      <td>-228</td>\n      <td>8</td>\n      <td>7.0</td>\n      <td>3PT Field Goal</td>\n      <td>Left Corner 3</td>\n      <td>Left Side(L)</td>\n      <td>24+ ft.</td>\n      <td>Regular Season</td>\n      <td>True</td>\n      <td>False</td>\n    </tr>\n    <tr>\n      <td>...</td>\n      <td>...</td>\n      <td>...</td>\n      <td>...</td>\n      <td>...</td>\n      <td>...</td>\n      <td>...</td>\n      <td>...</td>\n      <td>...</td>\n      <td>...</td>\n      <td>...</td>\n      <td>...</td>\n      <td>...</td>\n      <td>...</td>\n      <td>...</td>\n    </tr>\n    <tr>\n      <td>13953</td>\n      <td>4</td>\n      <td>8</td>\n      <td>1</td>\n      <td>12</td>\n      <td>3</td>\n      <td>120</td>\n      <td>-13.0</td>\n      <td>2PT Field Goal</td>\n      <td>In The Paint (Non-RA)</td>\n      <td>Center(C)</td>\n      <td>8-16 ft.</td>\n      <td>Playoffs</td>\n      <td>True</td>\n      <td>False</td>\n    </tr>\n    <tr>\n      <td>13954</td>\n      <td>4</td>\n      <td>7</td>\n      <td>16</td>\n      <td>11</td>\n      <td>114</td>\n      <td>-5</td>\n      <td>-14.0</td>\n      <td>2PT Field Goal</td>\n      <td>Mid-Range</td>\n      <td>Right Side(R)</td>\n      <td>8-16 ft.</td>\n      <td>Playoffs</td>\n      <td>True</td>\n      <td>False</td>\n    </tr>\n    <tr>\n      <td>13955</td>\n      <td>4</td>\n      <td>5</td>\n      <td>27</td>\n      <td>26</td>\n      <td>-217</td>\n      <td>149</td>\n      <td>-17.0</td>\n      <td>3PT Field Goal</td>\n      <td>Above the Break 3</td>\n      <td>Left Side Center(LC)</td>\n      <td>24+ ft.</td>\n      <td>Playoffs</td>\n      <td>True</td>\n      <td>False</td>\n    </tr>\n    <tr>\n      <td>13956</td>\n      <td>4</td>\n      <td>4</td>\n      <td>50</td>\n      <td>7</td>\n      <td>59</td>\n      <td>49</td>\n      <td>-16.0</td>\n      <td>2PT Field Goal</td>\n      <td>In The Paint (Non-RA)</td>\n      <td>Center(C)</td>\n      <td>Less Than 8 ft.</td>\n      <td>Playoffs</td>\n      <td>True</td>\n      <td>False</td>\n    </tr>\n    <tr>\n      <td>13957</td>\n      <td>4</td>\n      <td>2</td>\n      <td>47</td>\n      <td>24</td>\n      <td>-226</td>\n      <td>104</td>\n      <td>-12.0</td>\n      <td>3PT Field Goal</td>\n      <td>Above the Break 3</td>\n      <td>Left Side Center(LC)</td>\n      <td>24+ ft.</td>\n      <td>Playoffs</td>\n      <td>True</td>\n      <td>False</td>\n    </tr>\n  </tbody>\n</table>\n<p>1709 rows × 14 columns</p>\n</div>"
     },
     "metadata": {},
     "output_type": "execute_result",
     "execution_count": 164
    }
   ],
   "source": [],
   "metadata": {
    "collapsed": false,
    "pycharm": {
     "name": "#%%\n",
     "is_executing": false
    }
   }
  },
  {
   "cell_type": "code",
   "execution_count": 181,
   "outputs": [
    {
     "name": "stdout",
     "text": [
      "test accuracy score is 0.5728496196606202\n"
     ],
     "output_type": "stream"
    }
   ],
   "source": [
    "from sklearn.metrics import accuracy_score\n",
    "y_pred_RFClassifer = search_RFClassifer.predict(X_test)\n",
    "accuracy= accuracy_score(y_test, y_pred_RFClassifer)\n",
    "print('test accuracy score is', accuracy)"
   ],
   "metadata": {
    "collapsed": false,
    "pycharm": {
     "name": "#%%\n",
     "is_executing": false
    }
   }
  },
  {
   "cell_type": "markdown",
   "metadata": {
    "id": "xGL5stLvJCn1",
    "colab_type": "text"
   },
   "source": [
    "## 8. Given a confusion matrix, calculate accuracy, precision, and recall.\n",
    "\n",
    "Imagine this is the confusion matrix for a binary classification model. Use the confusion matrix to calculate the model's accuracy, precision, and recall.\n",
    "\n",
    "<table>\n",
    "  <tr>\n",
    "    <td colspan=\"2\" rowspan=\"2\"></td>\n",
    "    <td colspan=\"2\">Predicted</td>\n",
    "  </tr>\n",
    "  <tr>\n",
    "    <td>Negative</td>\n",
    "    <td>Positive</td>\n",
    "  </tr>\n",
    "  <tr>\n",
    "    <td rowspan=\"2\">Actual</td>\n",
    "    <td>Negative</td>\n",
    "    <td style=\"border: solid\">85</td>\n",
    "    <td style=\"border: solid\">58</td>\n",
    "  </tr>\n",
    "  <tr>\n",
    "    <td>Positive</td>\n",
    "    <td style=\"border: solid\">8</td>\n",
    "    <td style=\"border: solid\"> 36</td>\n",
    "  </tr>\n",
    "</table>"
   ]
  },
  {
   "cell_type": "markdown",
   "metadata": {
    "id": "nEvt7NkUJNao",
    "colab_type": "text"
   },
   "source": [
    "### Calculate accuracy "
   ]
  },
  {
   "cell_type": "code",
   "metadata": {
    "id": "FFszS2A5JJmv",
    "colab_type": "code",
    "colab": {},
    "pycharm": {
     "is_executing": false
    }
   },
   "source": [
    "(85+36)/(85+58+8+36)\n"
   ],
   "execution_count": 167,
   "outputs": [
    {
     "data": {
      "text/plain": "0.6470588235294118"
     },
     "metadata": {},
     "output_type": "execute_result",
     "execution_count": 167
    }
   ]
  },
  {
   "cell_type": "markdown",
   "metadata": {
    "id": "XjHTmk8sJO4v",
    "colab_type": "text"
   },
   "source": [
    "### Calculate precision"
   ]
  },
  {
   "cell_type": "code",
   "metadata": {
    "id": "7qX1gbcMJQS_",
    "colab_type": "code",
    "colab": {},
    "pycharm": {
     "is_executing": false
    }
   },
   "source": [
    "(85)/(85+6)\n"
   ],
   "execution_count": 169,
   "outputs": [
    {
     "data": {
      "text/plain": "0.9340659340659341"
     },
     "metadata": {},
     "output_type": "execute_result",
     "execution_count": 169
    }
   ]
  },
  {
   "cell_type": "markdown",
   "metadata": {
    "id": "pFug3ZKaJQ7A",
    "colab_type": "text"
   },
   "source": [
    "### Calculate recall"
   ]
  },
  {
   "cell_type": "code",
   "metadata": {
    "id": "L0OKc3JxJR4r",
    "colab_type": "code",
    "colab": {},
    "pycharm": {
     "is_executing": false
    }
   },
   "source": [
    "85/(85+8)"
   ],
   "execution_count": 172,
   "outputs": [
    {
     "data": {
      "text/plain": "0.9139784946236559"
     },
     "metadata": {},
     "output_type": "execute_result",
     "execution_count": 172
    }
   ]
  },
  {
   "cell_type": "code",
   "execution_count": null,
   "outputs": [],
   "source": [
    "\n"
   ],
   "metadata": {
    "collapsed": false,
    "pycharm": {
     "name": "#%%\n"
    }
   }
  }
 ]
}